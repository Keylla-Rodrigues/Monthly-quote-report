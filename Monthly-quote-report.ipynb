{
 "cells": [
  {
   "cell_type": "markdown",
   "id": "443474b0",
   "metadata": {},
   "source": [
    "## Project # 2...\n",
    "\n",
    "\n",
    "##EXPORTACAO AUTOMATICA DOS DADOS VIA SISTEMA WEB\n",
    "\n",
    "Usar selenium e Chrome driver p/ abrir o navegador\n",
    "1.\tEntrar/abrir sistema Web\n",
    "    1.1 Importar a senha e password\n",
    "    1.2 Enter\n",
    "    \n",
    "2.\tNavegar no sistema ate encontrar os dados\n",
    "    2.1 Clicar na tab \"View all quotes\"\n",
    "    2.2 Clicar na tab \"Export All Quotes\" -> fez download do excel file\n",
    "\n",
    "##IMPORTACAO DOS DADOS\n",
    "\n",
    "3.\tImportar a tabela\n",
    "\n",
    "##TRATAMENTO DOS DADOS\n",
    "\n",
    "4.\tOrganizar a planilha p/ gerar qtde de cotacoes somente para Fev. 2022\n",
    "    4.1 Deletar valores zero da coluna Total\n",
    "    4.2 Adicionar uma coluna c/ novos valores convertidos\n",
    "    \n",
    "##ANALISE DOS DADOS\n",
    "\n",
    "5.\tCalcular a estatistica descritiva\n",
    "    5.1 Visao geral \n",
    "    5.2  Visao estratificada por usuarios\n",
    "\n",
    "6.\tGerar graficos da principal variavel\n",
    "    6.1 Visao geral \n",
    "    6.2  Visao estratificada por usuarios\n",
    "\n",
    "##ENVIO DE EMAIL AUTOMATICO COM O INDICADOR (RESULTADO)\n",
    "\n",
    "7.\tEnviar email para o gerente com a qty global e estratificada por usuarios no mes de Fev 2022\n"
   ]
  },
  {
   "cell_type": "markdown",
   "id": "79c913bf",
   "metadata": {},
   "source": [
    "##### EXPORTACAO AUTOMATICA DOS DADOS VIA SISTEMA WEB"
   ]
  },
  {
   "cell_type": "code",
   "execution_count": null,
   "id": "2022963f",
   "metadata": {},
   "outputs": [],
   "source": [
    "## 1 - Entrar no sistema Web\n",
    "\n",
    "import time\n",
    "from selenium import webdriver\n",
    "##from selenium.webdriver.common.by import By\n",
    "\n",
    "navegador = webdriver.Chrome()                                          # abre um navegador \n",
    "navegador.get(r\"https://xx.xx.com/auth/login\")                          # digite o site especifico\n",
    "\n",
    "    # 1.1 - Digitar a senha e password\n",
    "\n",
    "from Senha import EMAIL_KEYLLA, PASSWORD_KEYLLA                                     \n",
    "navegador.find_element(By.ID,\"login\").send_keys(EMAIL_KEYLLA)         \n",
    "navegador.find_element(By.ID,\"password\").send_keys(PASSWORD_KEYLLA)\n",
    "\n",
    "\n",
    "    # 1.2 - Enter\n",
    "\n",
    "navegador.find_element(By.XPATH,\"/html/body/div[4]/div[1]/div/form/div/div[4]/div/button\").click()  \n",
    "time.sleep(3)\n",
    "\n",
    "\n",
    "## 2 - Navegar no sistema ate encontrar os dados\n",
    "    # 2.1 - Clicar na tab \"View all quotes\"\n",
    "\n",
    "navegador.get(r\"https://xx.xx.com/order/list_all/quote?rev=6a238da605fbd3cb9e41bcd126250f9c\")  # digite o site especifico\n",
    "\n",
    "time.sleep(5) \n",
    "\n",
    "\n",
    "    # 2.2 - Clicar na tab \"Export All Quotes\"\n",
    "\n",
    "navegador.find_element(By.ID,\"export_quotes\").click()       # digite nome do arquivo especifico\n",
    "time.sleep(7)  # time para fazer o download do arquivo\n",
    "                                "
   ]
  },
  {
   "cell_type": "markdown",
   "id": "59d376e7",
   "metadata": {},
   "source": [
    "##### IMPORTACAO DOS DADOS"
   ]
  },
  {
   "cell_type": "code",
   "execution_count": 5,
   "id": "c274d6c2",
   "metadata": {
    "scrolled": true
   },
   "outputs": [
    {
     "data": {
      "text/html": [
       "<div>\n",
       "<style scoped>\n",
       "    .dataframe tbody tr th:only-of-type {\n",
       "        vertical-align: middle;\n",
       "    }\n",
       "\n",
       "    .dataframe tbody tr th {\n",
       "        vertical-align: top;\n",
       "    }\n",
       "\n",
       "    .dataframe thead th {\n",
       "        text-align: right;\n",
       "    }\n",
       "</style>\n",
       "<table border=\"1\" class=\"dataframe\">\n",
       "  <thead>\n",
       "    <tr style=\"text-align: right;\">\n",
       "      <th></th>\n",
       "      <th>Username</th>\n",
       "      <th>Quote Number</th>\n",
       "      <th>Status</th>\n",
       "      <th>Created Date</th>\n",
       "      <th>Expiration Date</th>\n",
       "      <th>Closed Date</th>\n",
       "      <th>Canceled Date</th>\n",
       "      <th>Company</th>\n",
       "      <th>Currency</th>\n",
       "      <th>Total</th>\n",
       "      <th>SP</th>\n",
       "      <th>SC</th>\n",
       "      <th>Country</th>\n",
       "    </tr>\n",
       "  </thead>\n",
       "  <tbody>\n",
       "    <tr>\n",
       "      <th>0</th>\n",
       "      <td>Coord.</td>\n",
       "      <td>Q-000002</td>\n",
       "      <td>Canceled</td>\n",
       "      <td>2019-08-28 07:00:00</td>\n",
       "      <td>2019-10-27 07:00:00</td>\n",
       "      <td>NaT</td>\n",
       "      <td>NaT</td>\n",
       "      <td>A</td>\n",
       "      <td>USD</td>\n",
       "      <td>19651.07</td>\n",
       "      <td>1</td>\n",
       "      <td>1</td>\n",
       "      <td>UNITED STATES</td>\n",
       "    </tr>\n",
       "    <tr>\n",
       "      <th>1</th>\n",
       "      <td>Coord.</td>\n",
       "      <td>Q-000003</td>\n",
       "      <td>Expired</td>\n",
       "      <td>2019-09-11 07:00:00</td>\n",
       "      <td>2019-11-10 08:00:00</td>\n",
       "      <td>NaT</td>\n",
       "      <td>NaT</td>\n",
       "      <td>A</td>\n",
       "      <td>CAN</td>\n",
       "      <td>24665.64</td>\n",
       "      <td>2</td>\n",
       "      <td>2</td>\n",
       "      <td>Jamaica</td>\n",
       "    </tr>\n",
       "    <tr>\n",
       "      <th>2</th>\n",
       "      <td>Coord.</td>\n",
       "      <td>Q-000005</td>\n",
       "      <td>Expired</td>\n",
       "      <td>2019-10-22 07:00:00</td>\n",
       "      <td>2019-12-21 08:00:00</td>\n",
       "      <td>NaT</td>\n",
       "      <td>NaT</td>\n",
       "      <td>A</td>\n",
       "      <td>USD</td>\n",
       "      <td>22509.87</td>\n",
       "      <td>3</td>\n",
       "      <td>3</td>\n",
       "      <td>United States</td>\n",
       "    </tr>\n",
       "    <tr>\n",
       "      <th>3</th>\n",
       "      <td>Coord.</td>\n",
       "      <td>Q-000006</td>\n",
       "      <td>Closed</td>\n",
       "      <td>2019-11-25 08:00:00</td>\n",
       "      <td>2019-12-31 08:00:00</td>\n",
       "      <td>NaT</td>\n",
       "      <td>NaT</td>\n",
       "      <td>A</td>\n",
       "      <td>USD</td>\n",
       "      <td>23958.01</td>\n",
       "      <td>4</td>\n",
       "      <td>4</td>\n",
       "      <td>United States</td>\n",
       "    </tr>\n",
       "    <tr>\n",
       "      <th>4</th>\n",
       "      <td>Coord.</td>\n",
       "      <td>Q-000008</td>\n",
       "      <td>Closed</td>\n",
       "      <td>2019-12-13 08:00:00</td>\n",
       "      <td>2020-02-11 08:00:00</td>\n",
       "      <td>NaT</td>\n",
       "      <td>NaT</td>\n",
       "      <td>B</td>\n",
       "      <td>USD</td>\n",
       "      <td>18540.95</td>\n",
       "      <td>5</td>\n",
       "      <td>5</td>\n",
       "      <td>UNITED STATES</td>\n",
       "    </tr>\n",
       "  </tbody>\n",
       "</table>\n",
       "</div>"
      ],
      "text/plain": [
       "  Username Quote Number    Status        Created Date     Expiration Date  \\\n",
       "0   Coord.     Q-000002  Canceled 2019-08-28 07:00:00 2019-10-27 07:00:00   \n",
       "1   Coord.     Q-000003   Expired 2019-09-11 07:00:00 2019-11-10 08:00:00   \n",
       "2   Coord.     Q-000005   Expired 2019-10-22 07:00:00 2019-12-21 08:00:00   \n",
       "3   Coord.     Q-000006    Closed 2019-11-25 08:00:00 2019-12-31 08:00:00   \n",
       "4   Coord.     Q-000008    Closed 2019-12-13 08:00:00 2020-02-11 08:00:00   \n",
       "\n",
       "  Closed Date Canceled Date Company Currency     Total  SP  SC        Country  \n",
       "0         NaT           NaT       A      USD  19651.07   1   1  UNITED STATES  \n",
       "1         NaT           NaT       A      CAN  24665.64   2   2        Jamaica  \n",
       "2         NaT           NaT       A      USD  22509.87   3   3  United States  \n",
       "3         NaT           NaT       A      USD  23958.01   4   4  United States  \n",
       "4         NaT           NaT       B      USD  18540.95   5   5  UNITED STATES  "
      ]
     },
     "execution_count": 5,
     "metadata": {},
     "output_type": "execute_result"
    }
   ],
   "source": [
    "# 3 - Importar a tabela de dados\n",
    "\n",
    "import pandas as pd\n",
    "quotes_df = pd.read_excel(r\"Export All quotes.xlsx\")\n",
    "\n",
    "#display(quotes_df)\n",
    "quotes_df.head(5)\n"
   ]
  },
  {
   "cell_type": "code",
   "execution_count": 3,
   "id": "b3e131b1",
   "metadata": {},
   "outputs": [
    {
     "data": {
      "text/plain": [
       "(2271, 13)"
      ]
     },
     "execution_count": 3,
     "metadata": {},
     "output_type": "execute_result"
    }
   ],
   "source": [
    "# Qtas linhas e colunas a tabela tem\n",
    "\n",
    "quotes_df.shape\n"
   ]
  },
  {
   "cell_type": "code",
   "execution_count": 2,
   "id": "9085f7c8",
   "metadata": {},
   "outputs": [
    {
     "data": {
      "text/plain": [
       "Index(['Username', 'Quote Number', 'Status', 'Created Date', 'Expiration Date',\n",
       "       'Closed Date', 'Canceled Date', 'Company', 'Currency', 'Total', 'SP',\n",
       "       'SC', 'Country'],\n",
       "      dtype='object')"
      ]
     },
     "execution_count": 2,
     "metadata": {},
     "output_type": "execute_result"
    }
   ],
   "source": [
    "# Saber quais colunas ha nessa tabela\n",
    "\n",
    "quotes_df.columns\n"
   ]
  },
  {
   "cell_type": "code",
   "execution_count": 10,
   "id": "f166b717",
   "metadata": {},
   "outputs": [
    {
     "name": "stdout",
     "output_type": "stream",
     "text": [
      "Username              0\n",
      "Quote Number          0\n",
      "Status                0\n",
      "Created Date          0\n",
      "Expiration Date       0\n",
      "Closed Date        2156\n",
      "Canceled Date      1858\n",
      "Company               0\n",
      "Currency              0\n",
      "Total                 0\n",
      "SP                    0\n",
      "SC                    0\n",
      "Country               0\n",
      "dtype: int64\n"
     ]
    }
   ],
   "source": [
    "# Saber quantas celulas vazias cd coluna tabela tem. \n",
    "\n",
    "#print(quotes_df.info())   # Alem disso saber o tipo de variavel\n",
    "\n",
    "print(quotes_df.isna().sum())\n"
   ]
  },
  {
   "cell_type": "code",
   "execution_count": 7,
   "id": "d36de22f",
   "metadata": {},
   "outputs": [
    {
     "data": {
      "text/plain": [
       "0"
      ]
     },
     "execution_count": 7,
     "metadata": {},
     "output_type": "execute_result"
    }
   ],
   "source": [
    "# Saber se ha dados duplicados\n",
    "\n",
    "quotes_df.duplicated().sum() \n"
   ]
  },
  {
   "cell_type": "code",
   "execution_count": null,
   "id": "6c605952",
   "metadata": {},
   "outputs": [],
   "source": [
    "# Deletar as colunas q nao necessarias\n",
    "\n",
    "quotes_df = quotes_df.drop([\"Quote Number\", \"Expiration Date\", \"Closed Date\", \"Canceled Date\", \"Company\", \"SP\", \"SC\", \"Country\"], axis = 1) \n",
    "display(quotes_df)\n"
   ]
  },
  {
   "cell_type": "code",
   "execution_count": null,
   "id": "315bccd8",
   "metadata": {},
   "outputs": [],
   "source": [
    "# Deletar linhas c/ valor = zero na coluna Total \n",
    "\n",
    "quotes_df.drop(quotes_df[quotes_df['Total'] == 0].index, inplace = True)\n",
    "\n",
    "display(quotes_df)\n"
   ]
  },
  {
   "cell_type": "code",
   "execution_count": null,
   "id": "0355eac0",
   "metadata": {},
   "outputs": [],
   "source": [
    "# Deletar linhas c/ valor = zero na coluna Total \n",
    "\n",
    "quotes_df.drop(quotes_df[quotes_df['Total'] == 1].index, inplace = True)\n",
    "\n",
    "display(quotes_df)\n"
   ]
  },
  {
   "cell_type": "code",
   "execution_count": null,
   "id": "b3115332",
   "metadata": {},
   "outputs": [],
   "source": [
    "# Criar uma nova coluna com os valores da coluna Total convertida de acordo com a currency\n",
    "   # if Currency == CAN; -> valor do Total * 1,  #UK = 0.57931, #EUR = 0.68966, #USD = 0.77931\n",
    "   # quotes_df.loc[(quotes_df['Currency'] == 'USD'), 'New_Total'] = quotes_df['Total'] * 0.77931\n",
    "    \n",
    " \n",
    "def currency_adjust():   \n",
    "    quotes_df.loc[(quotes_df['Currency'] == 'USD'), 'New_Total'] = quotes_df['Total'] * 0.77931\n",
    "    quotes_df.loc[(quotes_df['Currency'] == 'UK'),  'New_Total'] = quotes_df['Total'] * 0.57931\n",
    "    quotes_df.loc[(quotes_df['Currency'] == 'EUR'), 'New_Total'] = quotes_df['Total'] * 0.68966\n",
    "    quotes_df.loc[(quotes_df['Currency'] == 'CAN'), 'New_Total'] = quotes_df['Total'] * 1.0000\n",
    "\n",
    "currency_adjust()  \n",
    "\n",
    "display(quotes_df)  \n"
   ]
  },
  {
   "cell_type": "code",
   "execution_count": null,
   "id": "2f64678e",
   "metadata": {},
   "outputs": [],
   "source": [
    "# Filtrar os dados para apenas o mes de fev 2022 - coluna: Created Date 01/02/2022 ate 28/02/2022\n",
    "\n",
    "fevereiro = (quotes_df['Created Date'] >= '2022-02-01') & (quotes_df['Created Date'] <= '2022-02-28')\n",
    "\n",
    "nova_tabela = quotes_df.loc[fevereiro]   #checar como essa fc funciona\n",
    "\n",
    "display(nova_tabela)\n"
   ]
  },
  {
   "cell_type": "markdown",
   "id": "48658024",
   "metadata": {},
   "source": [
    "##### ANALISE DOS DADOS"
   ]
  },
  {
   "cell_type": "code",
   "execution_count": null,
   "id": "1ec00363",
   "metadata": {},
   "outputs": [],
   "source": [
    "# Calcular estatistica descritiva (geral) p/ quantidade total de quotes criados (New_Total) - mes fev 2022\n",
    "\n",
    "# Estatistica descritiva da variavel New_Total (Total convertida para $CAD) - mes fev 2022\n",
    "#round(nova_tabela[\"New_Total\"].describe())\n",
    "\n",
    "#No periodo avaliado, foram criadas 130 cotacoes totalizando a possibilidade de vendas no valor total de CAD$4432975\n",
    "#50% das cotacoes criadas tiveram valores menors que CAD$20109.0. Ja o valor medio das cotacoes foi de CAD$34100\n",
    "#variando em +- 41193. Como ha outliers (valores mto discrepantes) e esses podem interferir nesse valor da media, \n",
    "# a sugestao seria entende-los e se possivel retira-los e analisar os dados sem eles. Outro ponto a se perceber eh q\n",
    "# os valores das cotacoes foram mais parecidos (menos variabilidade) para valores menores que 50% (mediana), ja\n",
    "# p os valores das cotacoes maiores que 50% a variacao dos valores das cotacoes foi bem maior. \n",
    "\n",
    "\n",
    "#round(nova_tabela.agg({\"New_Total\": [\"count\", \"mean\", \"std\", \"min\", \"max\", \"median\", \"sum\"],}))\n",
    "round(nova_tabela[\"New_Total\"].describe())\n"
   ]
  },
  {
   "cell_type": "code",
   "execution_count": null,
   "id": "9ca7f317",
   "metadata": {},
   "outputs": [],
   "source": [
    "# Construcao do box-plot mostrando todos os individuais valores\n",
    "# Ha 9 outliers interferindo nos valores da media e mediana. O ideal seria entender esses e caso possivel retira-los\n",
    "# p/ uma interpretacao mais fiel.\n",
    "\n",
    "px.box(nova_tabela, x=\"New_Total\", points=\"all\")"
   ]
  },
  {
   "cell_type": "code",
   "execution_count": null,
   "id": "a101a361",
   "metadata": {},
   "outputs": [],
   "source": [
    "# Criar grafico sequencial mostrando qtde quotes criados no mes de fev. 2022 p/ variavel New_Total (geral) / CAN$\n",
    "\n",
    "nova_tabela.plot(x='Created Date', y='New_Total', title='Qty quote created in Feb 2022')\n"
   ]
  },
  {
   "cell_type": "code",
   "execution_count": null,
   "id": "105f1a67",
   "metadata": {},
   "outputs": [],
   "source": [
    "# Calcular o total de cotacoes (variavel New_Total / CAN$)\n",
    "# No periodo avaliado, houveram \n",
    "df  = quotes_df.loc[fevereiro] \n",
    "Total_final = round(df[\"New_Total\"].sum() , 2)\n",
    "print(Total_final)\n"
   ]
  },
  {
   "cell_type": "code",
   "execution_count": null,
   "id": "817ae78c",
   "metadata": {},
   "outputs": [],
   "source": [
    "# Listar os subgrupos p/ calcular a estatistica estratificada. \n",
    "#Existem 2 tipos de grupos que criam as cotacoes: Coord. e GV.\n",
    "\n",
    "quotes_df[\"Username\"].unique()\n"
   ]
  },
  {
   "cell_type": "code",
   "execution_count": null,
   "id": "fd4d9bc0",
   "metadata": {},
   "outputs": [],
   "source": [
    "#Contando quantas cotacoes foram criadas por cada tipo de usuario\n",
    "#Os coord. criaram 73 e os GV criaram 57 cotacoes no periodo de fev. 2022\n",
    "\n",
    "qty_quote_created = nova_tabela[\"Username\"].value_counts() # criada uma nova variavel \"qty_quote_created\" q recebe ...\n"
   ]
  },
  {
   "cell_type": "code",
   "execution_count": null,
   "id": "562ee1a0",
   "metadata": {},
   "outputs": [],
   "source": [
    "#Contando quantas cotacoes foram criadas por cada tipo de usuario\n",
    "qty_quote_created  "
   ]
  },
  {
   "cell_type": "code",
   "execution_count": null,
   "id": "940ca8d1",
   "metadata": {},
   "outputs": [],
   "source": [
    "#Definindo o eixo label (nomes)\n",
    "\n",
    "qty_quote_created.index\n"
   ]
  },
  {
   "cell_type": "code",
   "execution_count": null,
   "id": "a42faccc",
   "metadata": {},
   "outputs": [],
   "source": [
    "#Definindo o eixo qtde \n",
    "\n",
    "qty_quote_created.values\n"
   ]
  },
  {
   "cell_type": "code",
   "execution_count": null,
   "id": "582c80bb",
   "metadata": {},
   "outputs": [],
   "source": [
    "#Construindo o grafico de pizza \n",
    "# Os coordenadores criam mais cotacoes que os proprios GV (Vendedores)\n",
    "\n",
    "px.pie(qty_quote_created, names=qty_quote_created.index, values=qty_quote_created.values)\n"
   ]
  },
  {
   "cell_type": "code",
   "execution_count": null,
   "id": "90264271",
   "metadata": {},
   "outputs": [],
   "source": [
    "# Estatistica descritiva da variavel New_Total estratificada por username / CAN$ - mes fev 2022 \n",
    "  \n",
    "# quotes_df.New_Total.describe()/ quotes_df['New_Total'].describe()\n",
    "round(nova_tabela.groupby(\"Username\").New_Total.agg([\"count\", \"mean\", \"std\", \"min\", \"max\", \"median\"]))\n"
   ]
  },
  {
   "cell_type": "code",
   "execution_count": null,
   "id": "3a78831b",
   "metadata": {},
   "outputs": [],
   "source": [
    "# Criar grafico sequencial mostrando qtde quotes criados no mes de fev. 2022 p/ variavel New_Total \n",
    "#estratificada) / CAN$\n",
    "\n",
    "import plotly.express as px\n",
    "import matplotlib.pyplot as pl \n",
    "\n",
    "px.box(nova_tabela, x=\"New_Total\", y=\"Username\", \n",
    "       title=\"Box-plot p/ cotacoes - periodo: fev. 2022 / estratificadas por grupo de usuarios\")"
   ]
  },
  {
   "cell_type": "markdown",
   "id": "c91150ea",
   "metadata": {},
   "source": [
    "#####  ENVIO DE EMAIL AUTOMATICO (GMAIL) - INDICADOR (QTY TOTAL DE QUOTES - PERIODO FEV 2022)"
   ]
  },
  {
   "cell_type": "code",
   "execution_count": null,
   "id": "735975a5",
   "metadata": {},
   "outputs": [],
   "source": [
    "# 7 - Enviar email para o gerente com a qty global e estratificada por usuarios no mes de Fev 2022\n",
    "\n",
    "from Senha1 import EMAIL_KEYLLA, PASSWORD_KEYLLA\n",
    "\n",
    "import pandas as pd\n",
    "import smtplib\n",
    "import email.message\n",
    "                                                               # precisa dessas 2 bibliotecas para fazer o codigo funcionar\n",
    "def enviar_email():                                            # fc que envia email\n",
    "\n",
    "    qty_total_quote = 130\n",
    "    qty_total_quote_Coord = 73\n",
    "    qty_total_quote_GV = 57                                                           \n",
    "    \n",
    "    \n",
    "    corpo_email =  f\"\"\"                                                             \n",
    "    <p>Dear Customer,</p>\n",
    "    <p>Please see the quote report related to the <b>QTY OF QUOTES CREATED in February, 2022:</b></p>\n",
    "    <p>Total quotes:{qty_total_quote}</p>\n",
    "    <p>Total quotes created by the Coordinators:{qty_total_quote_Coord}</p>\n",
    "    <p>Total quotes created by Sales Team - GV:{qty_total_quote_GV}</p>\n",
    "    <p>If you have any questions, please let us know.</p>\n",
    "    <p>Best regards,</p>\n",
    "    <p>Analytics team</p>\n",
    "    \"\"\"\n",
    "    \n",
    "    \n",
    "    msg = email.message.Message()                                # cria o email\n",
    "    msg['Subject'] = \"Monthly Quote Report\"                      # define esses parametros\n",
    "    msg['From'] = 'keyllacristianerodrigues@gmail.com'\n",
    "    msg['To'] = 'keyllacristianerodrigues+1@gmail.com'\n",
    "    password = PASSWORD_KEYLLA                                   # digitar a senha do email no \"From\" aqui ou importar o arquivo extra c a senha.py\n",
    "    msg.add_header('Content-Type', 'text/html')\n",
    "    msg.set_payload(corpo_email)\n",
    "    \n",
    "   \n",
    "   \n",
    "    s = smtplib.SMTP('smtp.gmail.com: 587')\n",
    "    s.starttls()                                         #faz conexao de forma segura c/o email. Essa parte toda eh para enviar a mns\n",
    "    #Login credentials for sending the mail\n",
    "    s.login(msg['From'], password)\n",
    "    s.sendmail(msg['From'], [msg['To']], msg.as_string().encode('utf-8'))\n",
    "    print('Email enviado') \n",
    "                                                \n",
    " "
   ]
  },
  {
   "cell_type": "code",
   "execution_count": null,
   "id": "7f161b42",
   "metadata": {},
   "outputs": [],
   "source": [
    "enviar_email()"
   ]
  }
 ],
 "metadata": {
  "kernelspec": {
   "display_name": "Python 3",
   "language": "python",
   "name": "python3"
  },
  "language_info": {
   "codemirror_mode": {
    "name": "ipython",
    "version": 3
   },
   "file_extension": ".py",
   "mimetype": "text/x-python",
   "name": "python",
   "nbconvert_exporter": "python",
   "pygments_lexer": "ipython3",
   "version": "3.8.8"
  }
 },
 "nbformat": 4,
 "nbformat_minor": 5
}
