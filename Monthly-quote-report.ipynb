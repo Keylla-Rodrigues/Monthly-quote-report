{
 "cells": [
  {
   "cell_type": "markdown",
   "id": "443474b0",
   "metadata": {},
   "source": [
    "## Project # 2...\n",
    "\n",
    "\n",
    "##EXPORTACAO AUTOMATICA DOS DADOS VIA SISTEMA WEB\n",
    "\n",
    "Usar selenium e Chrome driver p/ abrir o navegador\n",
    "1.\tEntrar/abrir sistema Web\n",
    "    1.1 Importar a senha e password\n",
    "    1.2 Enter\n",
    "    \n",
    "2.\tNavegar no sistema ate encontrar os dados\n",
    "    2.1 Clicar na tab \"View all quotes\"\n",
    "    2.2 Clicar na tab \"Export All Quotes\" -> fez download do excel file\n",
    "\n",
    "##IMPORTACAO DOS DADOS\n",
    "\n",
    "3.\tImportar a tabela\n",
    "\n",
    "##TRATAMENTO DOS DADOS\n",
    "\n",
    "4.\tOrganizar a planilha p/ gerar qtde de cotacoes somente para Fev. 2022\n",
    "    4.1 Deletar valores zero da coluna Total\n",
    "    4.2 Adicionar uma coluna c/ novos valores convertidos\n",
    "    \n",
    "##ANALISE DOS DADOS\n",
    "\n",
    "5.\tCalcular a estatistica descritiva\n",
    "    5.1 Visao geral \n",
    "    5.2  Visao estratificada por usuarios\n",
    "\n",
    "6.\tGerar graficos da principal variavel\n",
    "    6.1 Visao geral \n",
    "    6.2  Visao estratificada por usuarios\n",
    "\n",
    "##ENVIO DE EMAIL AUTOMATICO COM O INDICADOR (RESULTADO)\n",
    "\n",
    "7.\tEnviar email para o gerente com a qty global e estratificada por usuarios no mes de Fev 2022\n"
   ]
  },
  {
   "cell_type": "markdown",
   "id": "79c913bf",
   "metadata": {},
   "source": [
    "##### EXPORTACAO AUTOMATICA DOS DADOS VIA SISTEMA WEB"
   ]
  },
  {
   "cell_type": "code",
   "execution_count": null,
   "id": "2022963f",
   "metadata": {},
   "outputs": [],
   "source": [
    "## 1 - Entrar no sistema Web\n",
    "\n",
    "import time\n",
    "from selenium import webdriver\n",
    "##from selenium.webdriver.common.by import By\n",
    "\n",
    "navegador = webdriver.Chrome()                                          # abre um navegador \n",
    "navegador.get(r\"https://xx.xx.com/auth/login\")                          # digite o site especifico\n",
    "\n",
    "    # 1.1 - Digitar a senha e password\n",
    "\n",
    "from Senha import EMAIL_KEYLLA, PASSWORD_KEYLLA                                     \n",
    "navegador.find_element(By.ID,\"login\").send_keys(EMAIL_KEYLLA)         \n",
    "navegador.find_element(By.ID,\"password\").send_keys(PASSWORD_KEYLLA)\n",
    "\n",
    "\n",
    "    # 1.2 - Enter\n",
    "\n",
    "navegador.find_element(By.XPATH,\"/html/body/div[4]/div[1]/div/form/div/div[4]/div/button\").click()  \n",
    "time.sleep(3)\n",
    "\n",
    "\n",
    "## 2 - Navegar no sistema ate encontrar os dados\n",
    "    # 2.1 - Clicar na tab \"View all quotes\"\n",
    "\n",
    "navegador.get(r\"https://xx.xx.com/order/list_all/quote?rev=6a238da605fbd3cb9e41bcd126250f9c\")  # digite o site especifico\n",
    "\n",
    "time.sleep(5) \n",
    "\n",
    "\n",
    "    # 2.2 - Clicar na tab \"Export All Quotes\"\n",
    "\n",
    "navegador.find_element(By.ID,\"export_quotes\").click()       # digite nome do arquivo especifico\n",
    "time.sleep(7)  # time para fazer o download do arquivo\n",
    "                                "
   ]
  },
  {
   "cell_type": "markdown",
   "id": "59d376e7",
   "metadata": {},
   "source": [
    "##### IMPORTACAO DOS DADOS"
   ]
  },
  {
   "cell_type": "code",
   "execution_count": 1,
   "id": "c274d6c2",
   "metadata": {
    "scrolled": true
   },
   "outputs": [
    {
     "data": {
      "text/html": [
       "<div>\n",
       "<style scoped>\n",
       "    .dataframe tbody tr th:only-of-type {\n",
       "        vertical-align: middle;\n",
       "    }\n",
       "\n",
       "    .dataframe tbody tr th {\n",
       "        vertical-align: top;\n",
       "    }\n",
       "\n",
       "    .dataframe thead th {\n",
       "        text-align: right;\n",
       "    }\n",
       "</style>\n",
       "<table border=\"1\" class=\"dataframe\">\n",
       "  <thead>\n",
       "    <tr style=\"text-align: right;\">\n",
       "      <th></th>\n",
       "      <th>Username</th>\n",
       "      <th>Quote Number</th>\n",
       "      <th>Status</th>\n",
       "      <th>Created Date</th>\n",
       "      <th>Expiration Date</th>\n",
       "      <th>Closed Date</th>\n",
       "      <th>Canceled Date</th>\n",
       "      <th>Company</th>\n",
       "      <th>Currency</th>\n",
       "      <th>Total</th>\n",
       "      <th>SP</th>\n",
       "      <th>SC</th>\n",
       "      <th>Country</th>\n",
       "    </tr>\n",
       "  </thead>\n",
       "  <tbody>\n",
       "    <tr>\n",
       "      <th>0</th>\n",
       "      <td>Coord.</td>\n",
       "      <td>Q-000002</td>\n",
       "      <td>Canceled</td>\n",
       "      <td>2019-08-28 07:00:00</td>\n",
       "      <td>2019-10-27 07:00:00</td>\n",
       "      <td>NaT</td>\n",
       "      <td>NaT</td>\n",
       "      <td>A</td>\n",
       "      <td>USD</td>\n",
       "      <td>19651.07</td>\n",
       "      <td>1</td>\n",
       "      <td>1</td>\n",
       "      <td>UNITED STATES</td>\n",
       "    </tr>\n",
       "    <tr>\n",
       "      <th>1</th>\n",
       "      <td>Coord.</td>\n",
       "      <td>Q-000003</td>\n",
       "      <td>Expired</td>\n",
       "      <td>2019-09-11 07:00:00</td>\n",
       "      <td>2019-11-10 08:00:00</td>\n",
       "      <td>NaT</td>\n",
       "      <td>NaT</td>\n",
       "      <td>A</td>\n",
       "      <td>CAN</td>\n",
       "      <td>24665.64</td>\n",
       "      <td>2</td>\n",
       "      <td>2</td>\n",
       "      <td>Jamaica</td>\n",
       "    </tr>\n",
       "    <tr>\n",
       "      <th>2</th>\n",
       "      <td>Coord.</td>\n",
       "      <td>Q-000005</td>\n",
       "      <td>Expired</td>\n",
       "      <td>2019-10-22 07:00:00</td>\n",
       "      <td>2019-12-21 08:00:00</td>\n",
       "      <td>NaT</td>\n",
       "      <td>NaT</td>\n",
       "      <td>A</td>\n",
       "      <td>USD</td>\n",
       "      <td>22509.87</td>\n",
       "      <td>3</td>\n",
       "      <td>3</td>\n",
       "      <td>United States</td>\n",
       "    </tr>\n",
       "    <tr>\n",
       "      <th>3</th>\n",
       "      <td>Coord.</td>\n",
       "      <td>Q-000006</td>\n",
       "      <td>Closed</td>\n",
       "      <td>2019-11-25 08:00:00</td>\n",
       "      <td>2019-12-31 08:00:00</td>\n",
       "      <td>NaT</td>\n",
       "      <td>NaT</td>\n",
       "      <td>A</td>\n",
       "      <td>USD</td>\n",
       "      <td>23958.01</td>\n",
       "      <td>4</td>\n",
       "      <td>4</td>\n",
       "      <td>United States</td>\n",
       "    </tr>\n",
       "    <tr>\n",
       "      <th>4</th>\n",
       "      <td>Coord.</td>\n",
       "      <td>Q-000008</td>\n",
       "      <td>Closed</td>\n",
       "      <td>2019-12-13 08:00:00</td>\n",
       "      <td>2020-02-11 08:00:00</td>\n",
       "      <td>NaT</td>\n",
       "      <td>NaT</td>\n",
       "      <td>B</td>\n",
       "      <td>USD</td>\n",
       "      <td>18540.95</td>\n",
       "      <td>5</td>\n",
       "      <td>5</td>\n",
       "      <td>UNITED STATES</td>\n",
       "    </tr>\n",
       "    <tr>\n",
       "      <th>...</th>\n",
       "      <td>...</td>\n",
       "      <td>...</td>\n",
       "      <td>...</td>\n",
       "      <td>...</td>\n",
       "      <td>...</td>\n",
       "      <td>...</td>\n",
       "      <td>...</td>\n",
       "      <td>...</td>\n",
       "      <td>...</td>\n",
       "      <td>...</td>\n",
       "      <td>...</td>\n",
       "      <td>...</td>\n",
       "      <td>...</td>\n",
       "    </tr>\n",
       "    <tr>\n",
       "      <th>2266</th>\n",
       "      <td>Coord.</td>\n",
       "      <td>Q-002539</td>\n",
       "      <td>Open</td>\n",
       "      <td>2022-03-09 08:00:00</td>\n",
       "      <td>2022-06-07 07:00:00</td>\n",
       "      <td>NaT</td>\n",
       "      <td>NaT</td>\n",
       "      <td>A</td>\n",
       "      <td>USD</td>\n",
       "      <td>44984.08</td>\n",
       "      <td>2267</td>\n",
       "      <td>2267</td>\n",
       "      <td>UNITED STATES</td>\n",
       "    </tr>\n",
       "    <tr>\n",
       "      <th>2267</th>\n",
       "      <td>Coord.</td>\n",
       "      <td>Q-002540</td>\n",
       "      <td>Open</td>\n",
       "      <td>2022-03-09 08:00:00</td>\n",
       "      <td>2022-06-07 07:00:00</td>\n",
       "      <td>NaT</td>\n",
       "      <td>NaT</td>\n",
       "      <td>A</td>\n",
       "      <td>CAN</td>\n",
       "      <td>13520.96</td>\n",
       "      <td>2268</td>\n",
       "      <td>2268</td>\n",
       "      <td>Canada</td>\n",
       "    </tr>\n",
       "    <tr>\n",
       "      <th>2268</th>\n",
       "      <td>Coord.</td>\n",
       "      <td>Q-002541</td>\n",
       "      <td>Open</td>\n",
       "      <td>2022-03-09 08:00:00</td>\n",
       "      <td>2022-06-07 07:00:00</td>\n",
       "      <td>NaT</td>\n",
       "      <td>NaT</td>\n",
       "      <td>A</td>\n",
       "      <td>USD</td>\n",
       "      <td>61578.15</td>\n",
       "      <td>2269</td>\n",
       "      <td>2269</td>\n",
       "      <td>UNITED STATES</td>\n",
       "    </tr>\n",
       "    <tr>\n",
       "      <th>2269</th>\n",
       "      <td>Coord.</td>\n",
       "      <td>Q-002542</td>\n",
       "      <td>Open</td>\n",
       "      <td>2022-03-09 08:00:00</td>\n",
       "      <td>2022-06-07 07:00:00</td>\n",
       "      <td>NaT</td>\n",
       "      <td>NaT</td>\n",
       "      <td>A</td>\n",
       "      <td>USD</td>\n",
       "      <td>35718.95</td>\n",
       "      <td>2270</td>\n",
       "      <td>2270</td>\n",
       "      <td>United States</td>\n",
       "    </tr>\n",
       "    <tr>\n",
       "      <th>2270</th>\n",
       "      <td>Coord.</td>\n",
       "      <td>Q-002543</td>\n",
       "      <td>Open</td>\n",
       "      <td>2022-03-09 08:00:00</td>\n",
       "      <td>2022-06-07 07:00:00</td>\n",
       "      <td>NaT</td>\n",
       "      <td>NaT</td>\n",
       "      <td>A</td>\n",
       "      <td>USD</td>\n",
       "      <td>24511.77</td>\n",
       "      <td>2271</td>\n",
       "      <td>2271</td>\n",
       "      <td>United States</td>\n",
       "    </tr>\n",
       "  </tbody>\n",
       "</table>\n",
       "<p>2271 rows × 13 columns</p>\n",
       "</div>"
      ],
      "text/plain": [
       "     Username Quote Number    Status        Created Date     Expiration Date  \\\n",
       "0      Coord.     Q-000002  Canceled 2019-08-28 07:00:00 2019-10-27 07:00:00   \n",
       "1      Coord.     Q-000003   Expired 2019-09-11 07:00:00 2019-11-10 08:00:00   \n",
       "2      Coord.     Q-000005   Expired 2019-10-22 07:00:00 2019-12-21 08:00:00   \n",
       "3      Coord.     Q-000006    Closed 2019-11-25 08:00:00 2019-12-31 08:00:00   \n",
       "4      Coord.     Q-000008    Closed 2019-12-13 08:00:00 2020-02-11 08:00:00   \n",
       "...       ...          ...       ...                 ...                 ...   \n",
       "2266   Coord.     Q-002539      Open 2022-03-09 08:00:00 2022-06-07 07:00:00   \n",
       "2267   Coord.     Q-002540      Open 2022-03-09 08:00:00 2022-06-07 07:00:00   \n",
       "2268   Coord.     Q-002541      Open 2022-03-09 08:00:00 2022-06-07 07:00:00   \n",
       "2269   Coord.     Q-002542      Open 2022-03-09 08:00:00 2022-06-07 07:00:00   \n",
       "2270   Coord.     Q-002543      Open 2022-03-09 08:00:00 2022-06-07 07:00:00   \n",
       "\n",
       "     Closed Date Canceled Date Company Currency     Total    SP    SC  \\\n",
       "0            NaT           NaT       A      USD  19651.07     1     1   \n",
       "1            NaT           NaT       A      CAN  24665.64     2     2   \n",
       "2            NaT           NaT       A      USD  22509.87     3     3   \n",
       "3            NaT           NaT       A      USD  23958.01     4     4   \n",
       "4            NaT           NaT       B      USD  18540.95     5     5   \n",
       "...          ...           ...     ...      ...       ...   ...   ...   \n",
       "2266         NaT           NaT       A      USD  44984.08  2267  2267   \n",
       "2267         NaT           NaT       A      CAN  13520.96  2268  2268   \n",
       "2268         NaT           NaT       A      USD  61578.15  2269  2269   \n",
       "2269         NaT           NaT       A      USD  35718.95  2270  2270   \n",
       "2270         NaT           NaT       A      USD  24511.77  2271  2271   \n",
       "\n",
       "            Country  \n",
       "0     UNITED STATES  \n",
       "1           Jamaica  \n",
       "2     United States  \n",
       "3     United States  \n",
       "4     UNITED STATES  \n",
       "...             ...  \n",
       "2266  UNITED STATES  \n",
       "2267         Canada  \n",
       "2268  UNITED STATES  \n",
       "2269  United States  \n",
       "2270  United States  \n",
       "\n",
       "[2271 rows x 13 columns]"
      ]
     },
     "metadata": {},
     "output_type": "display_data"
    }
   ],
   "source": [
    "# 3 - Importar a tabela de dados\n",
    "\n",
    "import pandas as pd\n",
    "quotes_df = pd.read_excel(r\"Export All quotes.xlsx\")\n",
    "\n",
    "display(quotes_df)\n"
   ]
  },
  {
   "cell_type": "code",
   "execution_count": 2,
   "id": "6c605952",
   "metadata": {},
   "outputs": [
    {
     "data": {
      "text/html": [
       "<div>\n",
       "<style scoped>\n",
       "    .dataframe tbody tr th:only-of-type {\n",
       "        vertical-align: middle;\n",
       "    }\n",
       "\n",
       "    .dataframe tbody tr th {\n",
       "        vertical-align: top;\n",
       "    }\n",
       "\n",
       "    .dataframe thead th {\n",
       "        text-align: right;\n",
       "    }\n",
       "</style>\n",
       "<table border=\"1\" class=\"dataframe\">\n",
       "  <thead>\n",
       "    <tr style=\"text-align: right;\">\n",
       "      <th></th>\n",
       "      <th>Username</th>\n",
       "      <th>Status</th>\n",
       "      <th>Created Date</th>\n",
       "      <th>Currency</th>\n",
       "      <th>Total</th>\n",
       "    </tr>\n",
       "  </thead>\n",
       "  <tbody>\n",
       "    <tr>\n",
       "      <th>0</th>\n",
       "      <td>Coord.</td>\n",
       "      <td>Canceled</td>\n",
       "      <td>2019-08-28 07:00:00</td>\n",
       "      <td>USD</td>\n",
       "      <td>19651.07</td>\n",
       "    </tr>\n",
       "    <tr>\n",
       "      <th>1</th>\n",
       "      <td>Coord.</td>\n",
       "      <td>Expired</td>\n",
       "      <td>2019-09-11 07:00:00</td>\n",
       "      <td>CAN</td>\n",
       "      <td>24665.64</td>\n",
       "    </tr>\n",
       "    <tr>\n",
       "      <th>2</th>\n",
       "      <td>Coord.</td>\n",
       "      <td>Expired</td>\n",
       "      <td>2019-10-22 07:00:00</td>\n",
       "      <td>USD</td>\n",
       "      <td>22509.87</td>\n",
       "    </tr>\n",
       "    <tr>\n",
       "      <th>3</th>\n",
       "      <td>Coord.</td>\n",
       "      <td>Closed</td>\n",
       "      <td>2019-11-25 08:00:00</td>\n",
       "      <td>USD</td>\n",
       "      <td>23958.01</td>\n",
       "    </tr>\n",
       "    <tr>\n",
       "      <th>4</th>\n",
       "      <td>Coord.</td>\n",
       "      <td>Closed</td>\n",
       "      <td>2019-12-13 08:00:00</td>\n",
       "      <td>USD</td>\n",
       "      <td>18540.95</td>\n",
       "    </tr>\n",
       "    <tr>\n",
       "      <th>...</th>\n",
       "      <td>...</td>\n",
       "      <td>...</td>\n",
       "      <td>...</td>\n",
       "      <td>...</td>\n",
       "      <td>...</td>\n",
       "    </tr>\n",
       "    <tr>\n",
       "      <th>2266</th>\n",
       "      <td>Coord.</td>\n",
       "      <td>Open</td>\n",
       "      <td>2022-03-09 08:00:00</td>\n",
       "      <td>USD</td>\n",
       "      <td>44984.08</td>\n",
       "    </tr>\n",
       "    <tr>\n",
       "      <th>2267</th>\n",
       "      <td>Coord.</td>\n",
       "      <td>Open</td>\n",
       "      <td>2022-03-09 08:00:00</td>\n",
       "      <td>CAN</td>\n",
       "      <td>13520.96</td>\n",
       "    </tr>\n",
       "    <tr>\n",
       "      <th>2268</th>\n",
       "      <td>Coord.</td>\n",
       "      <td>Open</td>\n",
       "      <td>2022-03-09 08:00:00</td>\n",
       "      <td>USD</td>\n",
       "      <td>61578.15</td>\n",
       "    </tr>\n",
       "    <tr>\n",
       "      <th>2269</th>\n",
       "      <td>Coord.</td>\n",
       "      <td>Open</td>\n",
       "      <td>2022-03-09 08:00:00</td>\n",
       "      <td>USD</td>\n",
       "      <td>35718.95</td>\n",
       "    </tr>\n",
       "    <tr>\n",
       "      <th>2270</th>\n",
       "      <td>Coord.</td>\n",
       "      <td>Open</td>\n",
       "      <td>2022-03-09 08:00:00</td>\n",
       "      <td>USD</td>\n",
       "      <td>24511.77</td>\n",
       "    </tr>\n",
       "  </tbody>\n",
       "</table>\n",
       "<p>2271 rows × 5 columns</p>\n",
       "</div>"
      ],
      "text/plain": [
       "     Username    Status        Created Date Currency     Total\n",
       "0      Coord.  Canceled 2019-08-28 07:00:00      USD  19651.07\n",
       "1      Coord.   Expired 2019-09-11 07:00:00      CAN  24665.64\n",
       "2      Coord.   Expired 2019-10-22 07:00:00      USD  22509.87\n",
       "3      Coord.    Closed 2019-11-25 08:00:00      USD  23958.01\n",
       "4      Coord.    Closed 2019-12-13 08:00:00      USD  18540.95\n",
       "...       ...       ...                 ...      ...       ...\n",
       "2266   Coord.      Open 2022-03-09 08:00:00      USD  44984.08\n",
       "2267   Coord.      Open 2022-03-09 08:00:00      CAN  13520.96\n",
       "2268   Coord.      Open 2022-03-09 08:00:00      USD  61578.15\n",
       "2269   Coord.      Open 2022-03-09 08:00:00      USD  35718.95\n",
       "2270   Coord.      Open 2022-03-09 08:00:00      USD  24511.77\n",
       "\n",
       "[2271 rows x 5 columns]"
      ]
     },
     "metadata": {},
     "output_type": "display_data"
    }
   ],
   "source": [
    "# Deletar as colunas q nao necessarias\n",
    "\n",
    "quotes_df = quotes_df.drop([\"Quote Number\", \"Expiration Date\", \"Closed Date\", \"Canceled Date\", \"Company\", \"SP\", \"SC\", \"Country\"], axis = 1) \n",
    "display(quotes_df)\n"
   ]
  },
  {
   "cell_type": "code",
   "execution_count": 3,
   "id": "315bccd8",
   "metadata": {},
   "outputs": [
    {
     "data": {
      "text/html": [
       "<div>\n",
       "<style scoped>\n",
       "    .dataframe tbody tr th:only-of-type {\n",
       "        vertical-align: middle;\n",
       "    }\n",
       "\n",
       "    .dataframe tbody tr th {\n",
       "        vertical-align: top;\n",
       "    }\n",
       "\n",
       "    .dataframe thead th {\n",
       "        text-align: right;\n",
       "    }\n",
       "</style>\n",
       "<table border=\"1\" class=\"dataframe\">\n",
       "  <thead>\n",
       "    <tr style=\"text-align: right;\">\n",
       "      <th></th>\n",
       "      <th>Username</th>\n",
       "      <th>Status</th>\n",
       "      <th>Created Date</th>\n",
       "      <th>Currency</th>\n",
       "      <th>Total</th>\n",
       "    </tr>\n",
       "  </thead>\n",
       "  <tbody>\n",
       "    <tr>\n",
       "      <th>0</th>\n",
       "      <td>Coord.</td>\n",
       "      <td>Canceled</td>\n",
       "      <td>2019-08-28 07:00:00</td>\n",
       "      <td>USD</td>\n",
       "      <td>19651.07</td>\n",
       "    </tr>\n",
       "    <tr>\n",
       "      <th>1</th>\n",
       "      <td>Coord.</td>\n",
       "      <td>Expired</td>\n",
       "      <td>2019-09-11 07:00:00</td>\n",
       "      <td>CAN</td>\n",
       "      <td>24665.64</td>\n",
       "    </tr>\n",
       "    <tr>\n",
       "      <th>2</th>\n",
       "      <td>Coord.</td>\n",
       "      <td>Expired</td>\n",
       "      <td>2019-10-22 07:00:00</td>\n",
       "      <td>USD</td>\n",
       "      <td>22509.87</td>\n",
       "    </tr>\n",
       "    <tr>\n",
       "      <th>3</th>\n",
       "      <td>Coord.</td>\n",
       "      <td>Closed</td>\n",
       "      <td>2019-11-25 08:00:00</td>\n",
       "      <td>USD</td>\n",
       "      <td>23958.01</td>\n",
       "    </tr>\n",
       "    <tr>\n",
       "      <th>4</th>\n",
       "      <td>Coord.</td>\n",
       "      <td>Closed</td>\n",
       "      <td>2019-12-13 08:00:00</td>\n",
       "      <td>USD</td>\n",
       "      <td>18540.95</td>\n",
       "    </tr>\n",
       "    <tr>\n",
       "      <th>...</th>\n",
       "      <td>...</td>\n",
       "      <td>...</td>\n",
       "      <td>...</td>\n",
       "      <td>...</td>\n",
       "      <td>...</td>\n",
       "    </tr>\n",
       "    <tr>\n",
       "      <th>2266</th>\n",
       "      <td>Coord.</td>\n",
       "      <td>Open</td>\n",
       "      <td>2022-03-09 08:00:00</td>\n",
       "      <td>USD</td>\n",
       "      <td>44984.08</td>\n",
       "    </tr>\n",
       "    <tr>\n",
       "      <th>2267</th>\n",
       "      <td>Coord.</td>\n",
       "      <td>Open</td>\n",
       "      <td>2022-03-09 08:00:00</td>\n",
       "      <td>CAN</td>\n",
       "      <td>13520.96</td>\n",
       "    </tr>\n",
       "    <tr>\n",
       "      <th>2268</th>\n",
       "      <td>Coord.</td>\n",
       "      <td>Open</td>\n",
       "      <td>2022-03-09 08:00:00</td>\n",
       "      <td>USD</td>\n",
       "      <td>61578.15</td>\n",
       "    </tr>\n",
       "    <tr>\n",
       "      <th>2269</th>\n",
       "      <td>Coord.</td>\n",
       "      <td>Open</td>\n",
       "      <td>2022-03-09 08:00:00</td>\n",
       "      <td>USD</td>\n",
       "      <td>35718.95</td>\n",
       "    </tr>\n",
       "    <tr>\n",
       "      <th>2270</th>\n",
       "      <td>Coord.</td>\n",
       "      <td>Open</td>\n",
       "      <td>2022-03-09 08:00:00</td>\n",
       "      <td>USD</td>\n",
       "      <td>24511.77</td>\n",
       "    </tr>\n",
       "  </tbody>\n",
       "</table>\n",
       "<p>2271 rows × 5 columns</p>\n",
       "</div>"
      ],
      "text/plain": [
       "     Username    Status        Created Date Currency     Total\n",
       "0      Coord.  Canceled 2019-08-28 07:00:00      USD  19651.07\n",
       "1      Coord.   Expired 2019-09-11 07:00:00      CAN  24665.64\n",
       "2      Coord.   Expired 2019-10-22 07:00:00      USD  22509.87\n",
       "3      Coord.    Closed 2019-11-25 08:00:00      USD  23958.01\n",
       "4      Coord.    Closed 2019-12-13 08:00:00      USD  18540.95\n",
       "...       ...       ...                 ...      ...       ...\n",
       "2266   Coord.      Open 2022-03-09 08:00:00      USD  44984.08\n",
       "2267   Coord.      Open 2022-03-09 08:00:00      CAN  13520.96\n",
       "2268   Coord.      Open 2022-03-09 08:00:00      USD  61578.15\n",
       "2269   Coord.      Open 2022-03-09 08:00:00      USD  35718.95\n",
       "2270   Coord.      Open 2022-03-09 08:00:00      USD  24511.77\n",
       "\n",
       "[2271 rows x 5 columns]"
      ]
     },
     "metadata": {},
     "output_type": "display_data"
    }
   ],
   "source": [
    "# Deletar linhas c/ valor = zero na coluna Total \n",
    "\n",
    "quotes_df.drop(quotes_df[quotes_df['Total'] == 0].index, inplace = True)\n",
    "\n",
    "display(quotes_df)\n"
   ]
  },
  {
   "cell_type": "code",
   "execution_count": 4,
   "id": "0355eac0",
   "metadata": {},
   "outputs": [
    {
     "data": {
      "text/html": [
       "<div>\n",
       "<style scoped>\n",
       "    .dataframe tbody tr th:only-of-type {\n",
       "        vertical-align: middle;\n",
       "    }\n",
       "\n",
       "    .dataframe tbody tr th {\n",
       "        vertical-align: top;\n",
       "    }\n",
       "\n",
       "    .dataframe thead th {\n",
       "        text-align: right;\n",
       "    }\n",
       "</style>\n",
       "<table border=\"1\" class=\"dataframe\">\n",
       "  <thead>\n",
       "    <tr style=\"text-align: right;\">\n",
       "      <th></th>\n",
       "      <th>Username</th>\n",
       "      <th>Status</th>\n",
       "      <th>Created Date</th>\n",
       "      <th>Currency</th>\n",
       "      <th>Total</th>\n",
       "    </tr>\n",
       "  </thead>\n",
       "  <tbody>\n",
       "    <tr>\n",
       "      <th>0</th>\n",
       "      <td>Coord.</td>\n",
       "      <td>Canceled</td>\n",
       "      <td>2019-08-28 07:00:00</td>\n",
       "      <td>USD</td>\n",
       "      <td>19651.07</td>\n",
       "    </tr>\n",
       "    <tr>\n",
       "      <th>1</th>\n",
       "      <td>Coord.</td>\n",
       "      <td>Expired</td>\n",
       "      <td>2019-09-11 07:00:00</td>\n",
       "      <td>CAN</td>\n",
       "      <td>24665.64</td>\n",
       "    </tr>\n",
       "    <tr>\n",
       "      <th>2</th>\n",
       "      <td>Coord.</td>\n",
       "      <td>Expired</td>\n",
       "      <td>2019-10-22 07:00:00</td>\n",
       "      <td>USD</td>\n",
       "      <td>22509.87</td>\n",
       "    </tr>\n",
       "    <tr>\n",
       "      <th>3</th>\n",
       "      <td>Coord.</td>\n",
       "      <td>Closed</td>\n",
       "      <td>2019-11-25 08:00:00</td>\n",
       "      <td>USD</td>\n",
       "      <td>23958.01</td>\n",
       "    </tr>\n",
       "    <tr>\n",
       "      <th>4</th>\n",
       "      <td>Coord.</td>\n",
       "      <td>Closed</td>\n",
       "      <td>2019-12-13 08:00:00</td>\n",
       "      <td>USD</td>\n",
       "      <td>18540.95</td>\n",
       "    </tr>\n",
       "    <tr>\n",
       "      <th>...</th>\n",
       "      <td>...</td>\n",
       "      <td>...</td>\n",
       "      <td>...</td>\n",
       "      <td>...</td>\n",
       "      <td>...</td>\n",
       "    </tr>\n",
       "    <tr>\n",
       "      <th>2266</th>\n",
       "      <td>Coord.</td>\n",
       "      <td>Open</td>\n",
       "      <td>2022-03-09 08:00:00</td>\n",
       "      <td>USD</td>\n",
       "      <td>44984.08</td>\n",
       "    </tr>\n",
       "    <tr>\n",
       "      <th>2267</th>\n",
       "      <td>Coord.</td>\n",
       "      <td>Open</td>\n",
       "      <td>2022-03-09 08:00:00</td>\n",
       "      <td>CAN</td>\n",
       "      <td>13520.96</td>\n",
       "    </tr>\n",
       "    <tr>\n",
       "      <th>2268</th>\n",
       "      <td>Coord.</td>\n",
       "      <td>Open</td>\n",
       "      <td>2022-03-09 08:00:00</td>\n",
       "      <td>USD</td>\n",
       "      <td>61578.15</td>\n",
       "    </tr>\n",
       "    <tr>\n",
       "      <th>2269</th>\n",
       "      <td>Coord.</td>\n",
       "      <td>Open</td>\n",
       "      <td>2022-03-09 08:00:00</td>\n",
       "      <td>USD</td>\n",
       "      <td>35718.95</td>\n",
       "    </tr>\n",
       "    <tr>\n",
       "      <th>2270</th>\n",
       "      <td>Coord.</td>\n",
       "      <td>Open</td>\n",
       "      <td>2022-03-09 08:00:00</td>\n",
       "      <td>USD</td>\n",
       "      <td>24511.77</td>\n",
       "    </tr>\n",
       "  </tbody>\n",
       "</table>\n",
       "<p>2250 rows × 5 columns</p>\n",
       "</div>"
      ],
      "text/plain": [
       "     Username    Status        Created Date Currency     Total\n",
       "0      Coord.  Canceled 2019-08-28 07:00:00      USD  19651.07\n",
       "1      Coord.   Expired 2019-09-11 07:00:00      CAN  24665.64\n",
       "2      Coord.   Expired 2019-10-22 07:00:00      USD  22509.87\n",
       "3      Coord.    Closed 2019-11-25 08:00:00      USD  23958.01\n",
       "4      Coord.    Closed 2019-12-13 08:00:00      USD  18540.95\n",
       "...       ...       ...                 ...      ...       ...\n",
       "2266   Coord.      Open 2022-03-09 08:00:00      USD  44984.08\n",
       "2267   Coord.      Open 2022-03-09 08:00:00      CAN  13520.96\n",
       "2268   Coord.      Open 2022-03-09 08:00:00      USD  61578.15\n",
       "2269   Coord.      Open 2022-03-09 08:00:00      USD  35718.95\n",
       "2270   Coord.      Open 2022-03-09 08:00:00      USD  24511.77\n",
       "\n",
       "[2250 rows x 5 columns]"
      ]
     },
     "metadata": {},
     "output_type": "display_data"
    }
   ],
   "source": [
    "# Deletar linhas c/ valor = zero na coluna Total \n",
    "\n",
    "quotes_df.drop(quotes_df[quotes_df['Total'] == 1].index, inplace = True)\n",
    "\n",
    "display(quotes_df)\n"
   ]
  },
  {
   "cell_type": "code",
   "execution_count": 5,
   "id": "b3115332",
   "metadata": {},
   "outputs": [
    {
     "data": {
      "text/html": [
       "<div>\n",
       "<style scoped>\n",
       "    .dataframe tbody tr th:only-of-type {\n",
       "        vertical-align: middle;\n",
       "    }\n",
       "\n",
       "    .dataframe tbody tr th {\n",
       "        vertical-align: top;\n",
       "    }\n",
       "\n",
       "    .dataframe thead th {\n",
       "        text-align: right;\n",
       "    }\n",
       "</style>\n",
       "<table border=\"1\" class=\"dataframe\">\n",
       "  <thead>\n",
       "    <tr style=\"text-align: right;\">\n",
       "      <th></th>\n",
       "      <th>Username</th>\n",
       "      <th>Status</th>\n",
       "      <th>Created Date</th>\n",
       "      <th>Currency</th>\n",
       "      <th>Total</th>\n",
       "      <th>New_Total</th>\n",
       "    </tr>\n",
       "  </thead>\n",
       "  <tbody>\n",
       "    <tr>\n",
       "      <th>0</th>\n",
       "      <td>Coord.</td>\n",
       "      <td>Canceled</td>\n",
       "      <td>2019-08-28 07:00:00</td>\n",
       "      <td>USD</td>\n",
       "      <td>19651.07</td>\n",
       "      <td>15314.275362</td>\n",
       "    </tr>\n",
       "    <tr>\n",
       "      <th>1</th>\n",
       "      <td>Coord.</td>\n",
       "      <td>Expired</td>\n",
       "      <td>2019-09-11 07:00:00</td>\n",
       "      <td>CAN</td>\n",
       "      <td>24665.64</td>\n",
       "      <td>24665.640000</td>\n",
       "    </tr>\n",
       "    <tr>\n",
       "      <th>2</th>\n",
       "      <td>Coord.</td>\n",
       "      <td>Expired</td>\n",
       "      <td>2019-10-22 07:00:00</td>\n",
       "      <td>USD</td>\n",
       "      <td>22509.87</td>\n",
       "      <td>17542.166790</td>\n",
       "    </tr>\n",
       "    <tr>\n",
       "      <th>3</th>\n",
       "      <td>Coord.</td>\n",
       "      <td>Closed</td>\n",
       "      <td>2019-11-25 08:00:00</td>\n",
       "      <td>USD</td>\n",
       "      <td>23958.01</td>\n",
       "      <td>18670.716773</td>\n",
       "    </tr>\n",
       "    <tr>\n",
       "      <th>4</th>\n",
       "      <td>Coord.</td>\n",
       "      <td>Closed</td>\n",
       "      <td>2019-12-13 08:00:00</td>\n",
       "      <td>USD</td>\n",
       "      <td>18540.95</td>\n",
       "      <td>14449.147745</td>\n",
       "    </tr>\n",
       "    <tr>\n",
       "      <th>...</th>\n",
       "      <td>...</td>\n",
       "      <td>...</td>\n",
       "      <td>...</td>\n",
       "      <td>...</td>\n",
       "      <td>...</td>\n",
       "      <td>...</td>\n",
       "    </tr>\n",
       "    <tr>\n",
       "      <th>2266</th>\n",
       "      <td>Coord.</td>\n",
       "      <td>Open</td>\n",
       "      <td>2022-03-09 08:00:00</td>\n",
       "      <td>USD</td>\n",
       "      <td>44984.08</td>\n",
       "      <td>35056.543385</td>\n",
       "    </tr>\n",
       "    <tr>\n",
       "      <th>2267</th>\n",
       "      <td>Coord.</td>\n",
       "      <td>Open</td>\n",
       "      <td>2022-03-09 08:00:00</td>\n",
       "      <td>CAN</td>\n",
       "      <td>13520.96</td>\n",
       "      <td>13520.960000</td>\n",
       "    </tr>\n",
       "    <tr>\n",
       "      <th>2268</th>\n",
       "      <td>Coord.</td>\n",
       "      <td>Open</td>\n",
       "      <td>2022-03-09 08:00:00</td>\n",
       "      <td>USD</td>\n",
       "      <td>61578.15</td>\n",
       "      <td>47988.468077</td>\n",
       "    </tr>\n",
       "    <tr>\n",
       "      <th>2269</th>\n",
       "      <td>Coord.</td>\n",
       "      <td>Open</td>\n",
       "      <td>2022-03-09 08:00:00</td>\n",
       "      <td>USD</td>\n",
       "      <td>35718.95</td>\n",
       "      <td>27836.134924</td>\n",
       "    </tr>\n",
       "    <tr>\n",
       "      <th>2270</th>\n",
       "      <td>Coord.</td>\n",
       "      <td>Open</td>\n",
       "      <td>2022-03-09 08:00:00</td>\n",
       "      <td>USD</td>\n",
       "      <td>24511.77</td>\n",
       "      <td>19102.267479</td>\n",
       "    </tr>\n",
       "  </tbody>\n",
       "</table>\n",
       "<p>2250 rows × 6 columns</p>\n",
       "</div>"
      ],
      "text/plain": [
       "     Username    Status        Created Date Currency     Total     New_Total\n",
       "0      Coord.  Canceled 2019-08-28 07:00:00      USD  19651.07  15314.275362\n",
       "1      Coord.   Expired 2019-09-11 07:00:00      CAN  24665.64  24665.640000\n",
       "2      Coord.   Expired 2019-10-22 07:00:00      USD  22509.87  17542.166790\n",
       "3      Coord.    Closed 2019-11-25 08:00:00      USD  23958.01  18670.716773\n",
       "4      Coord.    Closed 2019-12-13 08:00:00      USD  18540.95  14449.147745\n",
       "...       ...       ...                 ...      ...       ...           ...\n",
       "2266   Coord.      Open 2022-03-09 08:00:00      USD  44984.08  35056.543385\n",
       "2267   Coord.      Open 2022-03-09 08:00:00      CAN  13520.96  13520.960000\n",
       "2268   Coord.      Open 2022-03-09 08:00:00      USD  61578.15  47988.468077\n",
       "2269   Coord.      Open 2022-03-09 08:00:00      USD  35718.95  27836.134924\n",
       "2270   Coord.      Open 2022-03-09 08:00:00      USD  24511.77  19102.267479\n",
       "\n",
       "[2250 rows x 6 columns]"
      ]
     },
     "metadata": {},
     "output_type": "display_data"
    }
   ],
   "source": [
    "# Criar uma nova coluna com os valores da coluna Total convertida de acordo com a currency\n",
    "   # if Currency == CAN; -> valor do Total * 1,  #UK = 0.57931, #EUR = 0.68966, #USD = 0.77931\n",
    "   # quotes_df.loc[(quotes_df['Currency'] == 'USD'), 'New_Total'] = quotes_df['Total'] * 0.77931\n",
    "    \n",
    " \n",
    "def currency_adjust():   \n",
    "    quotes_df.loc[(quotes_df['Currency'] == 'USD'), 'New_Total'] = quotes_df['Total'] * 0.77931\n",
    "    quotes_df.loc[(quotes_df['Currency'] == 'UK'),  'New_Total'] = quotes_df['Total'] * 0.57931\n",
    "    quotes_df.loc[(quotes_df['Currency'] == 'EUR'), 'New_Total'] = quotes_df['Total'] * 0.68966\n",
    "    quotes_df.loc[(quotes_df['Currency'] == 'CAN'), 'New_Total'] = quotes_df['Total'] * 1.0000\n",
    "\n",
    "currency_adjust()  \n",
    "\n",
    "display(quotes_df)  \n"
   ]
  },
  {
   "cell_type": "code",
   "execution_count": 6,
   "id": "2f64678e",
   "metadata": {},
   "outputs": [
    {
     "data": {
      "text/html": [
       "<div>\n",
       "<style scoped>\n",
       "    .dataframe tbody tr th:only-of-type {\n",
       "        vertical-align: middle;\n",
       "    }\n",
       "\n",
       "    .dataframe tbody tr th {\n",
       "        vertical-align: top;\n",
       "    }\n",
       "\n",
       "    .dataframe thead th {\n",
       "        text-align: right;\n",
       "    }\n",
       "</style>\n",
       "<table border=\"1\" class=\"dataframe\">\n",
       "  <thead>\n",
       "    <tr style=\"text-align: right;\">\n",
       "      <th></th>\n",
       "      <th>Username</th>\n",
       "      <th>Status</th>\n",
       "      <th>Created Date</th>\n",
       "      <th>Currency</th>\n",
       "      <th>Total</th>\n",
       "      <th>New_Total</th>\n",
       "    </tr>\n",
       "  </thead>\n",
       "  <tbody>\n",
       "    <tr>\n",
       "      <th>2083</th>\n",
       "      <td>Coord.</td>\n",
       "      <td>Closed</td>\n",
       "      <td>2022-02-01 08:00:00</td>\n",
       "      <td>USD</td>\n",
       "      <td>42723.14</td>\n",
       "      <td>33294.570233</td>\n",
       "    </tr>\n",
       "    <tr>\n",
       "      <th>2084</th>\n",
       "      <td>Coord.</td>\n",
       "      <td>Open</td>\n",
       "      <td>2022-02-01 08:00:00</td>\n",
       "      <td>CAN</td>\n",
       "      <td>114363.46</td>\n",
       "      <td>114363.460000</td>\n",
       "    </tr>\n",
       "    <tr>\n",
       "      <th>2087</th>\n",
       "      <td>Coord.</td>\n",
       "      <td>Closed</td>\n",
       "      <td>2022-02-01 08:00:00</td>\n",
       "      <td>USD</td>\n",
       "      <td>9231.25</td>\n",
       "      <td>7194.005437</td>\n",
       "    </tr>\n",
       "    <tr>\n",
       "      <th>2088</th>\n",
       "      <td>Coord.</td>\n",
       "      <td>Closed</td>\n",
       "      <td>2022-02-01 08:00:00</td>\n",
       "      <td>USD</td>\n",
       "      <td>10604.42</td>\n",
       "      <td>8264.130550</td>\n",
       "    </tr>\n",
       "    <tr>\n",
       "      <th>2089</th>\n",
       "      <td>Coord.</td>\n",
       "      <td>Open</td>\n",
       "      <td>2022-02-01 08:00:00</td>\n",
       "      <td>USD</td>\n",
       "      <td>25774.60</td>\n",
       "      <td>20086.403526</td>\n",
       "    </tr>\n",
       "    <tr>\n",
       "      <th>...</th>\n",
       "      <td>...</td>\n",
       "      <td>...</td>\n",
       "      <td>...</td>\n",
       "      <td>...</td>\n",
       "      <td>...</td>\n",
       "      <td>...</td>\n",
       "    </tr>\n",
       "    <tr>\n",
       "      <th>2210</th>\n",
       "      <td>Coord.</td>\n",
       "      <td>Closed</td>\n",
       "      <td>2022-02-25 08:00:00</td>\n",
       "      <td>CAN</td>\n",
       "      <td>33845.17</td>\n",
       "      <td>33845.170000</td>\n",
       "    </tr>\n",
       "    <tr>\n",
       "      <th>2211</th>\n",
       "      <td>GV</td>\n",
       "      <td>Open</td>\n",
       "      <td>2022-02-25 08:00:00</td>\n",
       "      <td>CAN</td>\n",
       "      <td>72590.99</td>\n",
       "      <td>72590.990000</td>\n",
       "    </tr>\n",
       "    <tr>\n",
       "      <th>2212</th>\n",
       "      <td>GV</td>\n",
       "      <td>Closed</td>\n",
       "      <td>2022-02-25 08:00:00</td>\n",
       "      <td>CAN</td>\n",
       "      <td>19297.47</td>\n",
       "      <td>19297.470000</td>\n",
       "    </tr>\n",
       "    <tr>\n",
       "      <th>2213</th>\n",
       "      <td>GV</td>\n",
       "      <td>Open</td>\n",
       "      <td>2022-02-25 08:00:00</td>\n",
       "      <td>USD</td>\n",
       "      <td>133167.01</td>\n",
       "      <td>103778.382563</td>\n",
       "    </tr>\n",
       "    <tr>\n",
       "      <th>2214</th>\n",
       "      <td>GV</td>\n",
       "      <td>Open</td>\n",
       "      <td>2022-02-25 08:00:00</td>\n",
       "      <td>USD</td>\n",
       "      <td>14704.00</td>\n",
       "      <td>11458.974240</td>\n",
       "    </tr>\n",
       "  </tbody>\n",
       "</table>\n",
       "<p>130 rows × 6 columns</p>\n",
       "</div>"
      ],
      "text/plain": [
       "     Username  Status        Created Date Currency      Total      New_Total\n",
       "2083   Coord.  Closed 2022-02-01 08:00:00      USD   42723.14   33294.570233\n",
       "2084   Coord.    Open 2022-02-01 08:00:00      CAN  114363.46  114363.460000\n",
       "2087   Coord.  Closed 2022-02-01 08:00:00      USD    9231.25    7194.005437\n",
       "2088   Coord.  Closed 2022-02-01 08:00:00      USD   10604.42    8264.130550\n",
       "2089   Coord.    Open 2022-02-01 08:00:00      USD   25774.60   20086.403526\n",
       "...       ...     ...                 ...      ...        ...            ...\n",
       "2210   Coord.  Closed 2022-02-25 08:00:00      CAN   33845.17   33845.170000\n",
       "2211       GV    Open 2022-02-25 08:00:00      CAN   72590.99   72590.990000\n",
       "2212       GV  Closed 2022-02-25 08:00:00      CAN   19297.47   19297.470000\n",
       "2213       GV    Open 2022-02-25 08:00:00      USD  133167.01  103778.382563\n",
       "2214       GV    Open 2022-02-25 08:00:00      USD   14704.00   11458.974240\n",
       "\n",
       "[130 rows x 6 columns]"
      ]
     },
     "metadata": {},
     "output_type": "display_data"
    }
   ],
   "source": [
    "# Filtrar os dados para apenas o mes de fev 2022 - coluna: Created Date 01/02/2022 ate 28/02/2022\n",
    "\n",
    "fevereiro = (quotes_df['Created Date'] >= '2022-02-01') & (quotes_df['Created Date'] <= '2022-02-28')\n",
    "\n",
    "nova_tabela = quotes_df.loc[fevereiro]   #checar como essa fc funciona\n",
    "\n",
    "display(nova_tabela)\n"
   ]
  },
  {
   "cell_type": "markdown",
   "id": "48658024",
   "metadata": {},
   "source": [
    "##### ANALISE DOS DADOS"
   ]
  },
  {
   "cell_type": "code",
   "execution_count": 24,
   "id": "1ec00363",
   "metadata": {},
   "outputs": [
    {
     "data": {
      "text/plain": [
       "count       130.0\n",
       "mean      34100.0\n",
       "std       41193.0\n",
       "min         534.0\n",
       "25%       10595.0\n",
       "50%       20109.0\n",
       "75%       42183.0\n",
       "max      303461.0\n",
       "Name: New_Total, dtype: float64"
      ]
     },
     "execution_count": 24,
     "metadata": {},
     "output_type": "execute_result"
    }
   ],
   "source": [
    "# Calcular estatistica descritiva (geral) p/ quantidade total de quotes criados (New_Total) - mes fev 2022\n",
    "\n",
    "# Estatistica descritiva da variavel New_Total (Total convertida para $CAD) - mes fev 2022\n",
    "#round(nova_tabela[\"New_Total\"].describe())\n",
    "\n",
    "#No periodo avaliado, foram criadas 130 cotacoes totalizando a possibilidade de vendas no valor total de CAD$4432975\n",
    "#50% das cotacoes criadas tiveram valores menors que CAD$20109.0. Ja o valor medio das cotacoes foi de CAD$34100\n",
    "#variando em +- 41193. Como ha outliers (valores mto discrepantes) e esses podem interferir nesse valor da media, \n",
    "# a sugestao seria entende-los e se possivel retira-los e analisar os dados sem eles. Outro ponto a se perceber eh q\n",
    "# os valores das cotacoes foram mais parecidos (menos variabilidade) para valores menores que 50% (mediana), ja\n",
    "# p os valores das cotacoes maiores que 50% a variacao dos valores das cotacoes foi bem maior. \n",
    "\n",
    "\n",
    "#round(nova_tabela.agg({\"New_Total\": [\"count\", \"mean\", \"std\", \"min\", \"max\", \"median\", \"sum\"],}))\n",
    "round(nova_tabela[\"New_Total\"].describe())\n"
   ]
  },
  {
   "cell_type": "code",
   "execution_count": 25,
   "id": "9ca7f317",
   "metadata": {},
   "outputs": [
    {
     "data": {
      "application/vnd.plotly.v1+json": {
       "config": {
        "plotlyServerURL": "https://plot.ly"
       },
       "data": [
        {
         "alignmentgroup": "True",
         "boxpoints": "all",
         "hovertemplate": "New_Total=%{x}<extra></extra>",
         "legendgroup": "",
         "marker": {
          "color": "#636efa"
         },
         "name": "",
         "notched": false,
         "offsetgroup": "",
         "orientation": "h",
         "showlegend": false,
         "type": "box",
         "x": [
          33294.570233399994,
          114363.46,
          7194.005437499999,
          8264.1305502,
          20086.403526,
          36634.3889625,
          23165.2469223,
          8576.2037227,
          15011.9654265,
          58610.8,
          91598.4,
          51342.91,
          75528.075546,
          21275.521482599997,
          205891.71,
          98317.437876,
          116835.23,
          10586.7,
          4407.4812222,
          72686.89,
          28406.5586721,
          11175.7106412,
          14857.763356799998,
          8109.8973080999995,
          1108.85,
          7286.1822243,
          18412.313163299998,
          16412.9232204,
          11344.0961529,
          6615.9924757,
          19902.13,
          124604.6,
          35689.6,
          9744.2506539,
          10574.847044999999,
          16155.22,
          6062.6577312,
          8850.8808423,
          21074.591985299998,
          12940.208757,
          11869.421230799999,
          47382.928620299994,
          6097.6490601,
          1098.2192381999998,
          13265.5395096,
          2395.0066644,
          41816.6601867,
          16642.5001533,
          8724.9365532,
          14779.902494699998,
          22963.226390999997,
          17741.8649772,
          21818.0459322,
          80275.16447999999,
          80275.16447999999,
          28414.811564999996,
          26506.2657888,
          162657.8420452,
          1215.9184275,
          65585.24111789999,
          11214.613796399999,
          64597.7540376,
          19620.8125596,
          35259.351019199996,
          37612.119081599994,
          42305.233004999995,
          4217.1972139,
          82967.75066789999,
          16013.0826387,
          4380.9565647,
          77822.0212896,
          8098.3401408,
          11672.43,
          78871.85316989999,
          303460.62,
          534.07,
          30839.38,
          1993.2489801,
          21975.47,
          10621.293921,
          27118.429379999998,
          8172.75,
          21783.851861,
          14243.952624900001,
          58140.375791399994,
          22549.85,
          43223.71,
          22625.317574999997,
          79157.87,
          1091.9761776,
          11496.453294800001,
          19174.478343299998,
          20751.8719212,
          8482.82,
          10469.97,
          20132.4,
          10233.1274031,
          32848.1814654,
          29598.630213599998,
          31798.09,
          8849.8755324,
          31336.7780368,
          14192.823487000001,
          11876.9727447,
          7104.6029943,
          18590.36,
          38845.43,
          57921.01,
          3735.680535,
          25480.371464800002,
          31970.9433708,
          10621.293921,
          2428.31,
          23009.096577599998,
          11867.34,
          21345.57,
          48917.709527399995,
          61482.12,
          13532.936356799999,
          11567.92,
          6297.954799499999,
          57624.12,
          43978.3804026,
          70343.19363329999,
          67384.3,
          33845.17,
          72590.99,
          19297.47,
          103778.3825631,
          11458.97424
         ],
         "x0": " ",
         "xaxis": "x",
         "y0": " ",
         "yaxis": "y"
        }
       ],
       "layout": {
        "boxmode": "group",
        "legend": {
         "tracegroupgap": 0
        },
        "margin": {
         "t": 60
        },
        "template": {
         "data": {
          "bar": [
           {
            "error_x": {
             "color": "#2a3f5f"
            },
            "error_y": {
             "color": "#2a3f5f"
            },
            "marker": {
             "line": {
              "color": "#E5ECF6",
              "width": 0.5
             },
             "pattern": {
              "fillmode": "overlay",
              "size": 10,
              "solidity": 0.2
             }
            },
            "type": "bar"
           }
          ],
          "barpolar": [
           {
            "marker": {
             "line": {
              "color": "#E5ECF6",
              "width": 0.5
             },
             "pattern": {
              "fillmode": "overlay",
              "size": 10,
              "solidity": 0.2
             }
            },
            "type": "barpolar"
           }
          ],
          "carpet": [
           {
            "aaxis": {
             "endlinecolor": "#2a3f5f",
             "gridcolor": "white",
             "linecolor": "white",
             "minorgridcolor": "white",
             "startlinecolor": "#2a3f5f"
            },
            "baxis": {
             "endlinecolor": "#2a3f5f",
             "gridcolor": "white",
             "linecolor": "white",
             "minorgridcolor": "white",
             "startlinecolor": "#2a3f5f"
            },
            "type": "carpet"
           }
          ],
          "choropleth": [
           {
            "colorbar": {
             "outlinewidth": 0,
             "ticks": ""
            },
            "type": "choropleth"
           }
          ],
          "contour": [
           {
            "colorbar": {
             "outlinewidth": 0,
             "ticks": ""
            },
            "colorscale": [
             [
              0,
              "#0d0887"
             ],
             [
              0.1111111111111111,
              "#46039f"
             ],
             [
              0.2222222222222222,
              "#7201a8"
             ],
             [
              0.3333333333333333,
              "#9c179e"
             ],
             [
              0.4444444444444444,
              "#bd3786"
             ],
             [
              0.5555555555555556,
              "#d8576b"
             ],
             [
              0.6666666666666666,
              "#ed7953"
             ],
             [
              0.7777777777777778,
              "#fb9f3a"
             ],
             [
              0.8888888888888888,
              "#fdca26"
             ],
             [
              1,
              "#f0f921"
             ]
            ],
            "type": "contour"
           }
          ],
          "contourcarpet": [
           {
            "colorbar": {
             "outlinewidth": 0,
             "ticks": ""
            },
            "type": "contourcarpet"
           }
          ],
          "heatmap": [
           {
            "colorbar": {
             "outlinewidth": 0,
             "ticks": ""
            },
            "colorscale": [
             [
              0,
              "#0d0887"
             ],
             [
              0.1111111111111111,
              "#46039f"
             ],
             [
              0.2222222222222222,
              "#7201a8"
             ],
             [
              0.3333333333333333,
              "#9c179e"
             ],
             [
              0.4444444444444444,
              "#bd3786"
             ],
             [
              0.5555555555555556,
              "#d8576b"
             ],
             [
              0.6666666666666666,
              "#ed7953"
             ],
             [
              0.7777777777777778,
              "#fb9f3a"
             ],
             [
              0.8888888888888888,
              "#fdca26"
             ],
             [
              1,
              "#f0f921"
             ]
            ],
            "type": "heatmap"
           }
          ],
          "heatmapgl": [
           {
            "colorbar": {
             "outlinewidth": 0,
             "ticks": ""
            },
            "colorscale": [
             [
              0,
              "#0d0887"
             ],
             [
              0.1111111111111111,
              "#46039f"
             ],
             [
              0.2222222222222222,
              "#7201a8"
             ],
             [
              0.3333333333333333,
              "#9c179e"
             ],
             [
              0.4444444444444444,
              "#bd3786"
             ],
             [
              0.5555555555555556,
              "#d8576b"
             ],
             [
              0.6666666666666666,
              "#ed7953"
             ],
             [
              0.7777777777777778,
              "#fb9f3a"
             ],
             [
              0.8888888888888888,
              "#fdca26"
             ],
             [
              1,
              "#f0f921"
             ]
            ],
            "type": "heatmapgl"
           }
          ],
          "histogram": [
           {
            "marker": {
             "pattern": {
              "fillmode": "overlay",
              "size": 10,
              "solidity": 0.2
             }
            },
            "type": "histogram"
           }
          ],
          "histogram2d": [
           {
            "colorbar": {
             "outlinewidth": 0,
             "ticks": ""
            },
            "colorscale": [
             [
              0,
              "#0d0887"
             ],
             [
              0.1111111111111111,
              "#46039f"
             ],
             [
              0.2222222222222222,
              "#7201a8"
             ],
             [
              0.3333333333333333,
              "#9c179e"
             ],
             [
              0.4444444444444444,
              "#bd3786"
             ],
             [
              0.5555555555555556,
              "#d8576b"
             ],
             [
              0.6666666666666666,
              "#ed7953"
             ],
             [
              0.7777777777777778,
              "#fb9f3a"
             ],
             [
              0.8888888888888888,
              "#fdca26"
             ],
             [
              1,
              "#f0f921"
             ]
            ],
            "type": "histogram2d"
           }
          ],
          "histogram2dcontour": [
           {
            "colorbar": {
             "outlinewidth": 0,
             "ticks": ""
            },
            "colorscale": [
             [
              0,
              "#0d0887"
             ],
             [
              0.1111111111111111,
              "#46039f"
             ],
             [
              0.2222222222222222,
              "#7201a8"
             ],
             [
              0.3333333333333333,
              "#9c179e"
             ],
             [
              0.4444444444444444,
              "#bd3786"
             ],
             [
              0.5555555555555556,
              "#d8576b"
             ],
             [
              0.6666666666666666,
              "#ed7953"
             ],
             [
              0.7777777777777778,
              "#fb9f3a"
             ],
             [
              0.8888888888888888,
              "#fdca26"
             ],
             [
              1,
              "#f0f921"
             ]
            ],
            "type": "histogram2dcontour"
           }
          ],
          "mesh3d": [
           {
            "colorbar": {
             "outlinewidth": 0,
             "ticks": ""
            },
            "type": "mesh3d"
           }
          ],
          "parcoords": [
           {
            "line": {
             "colorbar": {
              "outlinewidth": 0,
              "ticks": ""
             }
            },
            "type": "parcoords"
           }
          ],
          "pie": [
           {
            "automargin": true,
            "type": "pie"
           }
          ],
          "scatter": [
           {
            "marker": {
             "colorbar": {
              "outlinewidth": 0,
              "ticks": ""
             }
            },
            "type": "scatter"
           }
          ],
          "scatter3d": [
           {
            "line": {
             "colorbar": {
              "outlinewidth": 0,
              "ticks": ""
             }
            },
            "marker": {
             "colorbar": {
              "outlinewidth": 0,
              "ticks": ""
             }
            },
            "type": "scatter3d"
           }
          ],
          "scattercarpet": [
           {
            "marker": {
             "colorbar": {
              "outlinewidth": 0,
              "ticks": ""
             }
            },
            "type": "scattercarpet"
           }
          ],
          "scattergeo": [
           {
            "marker": {
             "colorbar": {
              "outlinewidth": 0,
              "ticks": ""
             }
            },
            "type": "scattergeo"
           }
          ],
          "scattergl": [
           {
            "marker": {
             "colorbar": {
              "outlinewidth": 0,
              "ticks": ""
             }
            },
            "type": "scattergl"
           }
          ],
          "scattermapbox": [
           {
            "marker": {
             "colorbar": {
              "outlinewidth": 0,
              "ticks": ""
             }
            },
            "type": "scattermapbox"
           }
          ],
          "scatterpolar": [
           {
            "marker": {
             "colorbar": {
              "outlinewidth": 0,
              "ticks": ""
             }
            },
            "type": "scatterpolar"
           }
          ],
          "scatterpolargl": [
           {
            "marker": {
             "colorbar": {
              "outlinewidth": 0,
              "ticks": ""
             }
            },
            "type": "scatterpolargl"
           }
          ],
          "scatterternary": [
           {
            "marker": {
             "colorbar": {
              "outlinewidth": 0,
              "ticks": ""
             }
            },
            "type": "scatterternary"
           }
          ],
          "surface": [
           {
            "colorbar": {
             "outlinewidth": 0,
             "ticks": ""
            },
            "colorscale": [
             [
              0,
              "#0d0887"
             ],
             [
              0.1111111111111111,
              "#46039f"
             ],
             [
              0.2222222222222222,
              "#7201a8"
             ],
             [
              0.3333333333333333,
              "#9c179e"
             ],
             [
              0.4444444444444444,
              "#bd3786"
             ],
             [
              0.5555555555555556,
              "#d8576b"
             ],
             [
              0.6666666666666666,
              "#ed7953"
             ],
             [
              0.7777777777777778,
              "#fb9f3a"
             ],
             [
              0.8888888888888888,
              "#fdca26"
             ],
             [
              1,
              "#f0f921"
             ]
            ],
            "type": "surface"
           }
          ],
          "table": [
           {
            "cells": {
             "fill": {
              "color": "#EBF0F8"
             },
             "line": {
              "color": "white"
             }
            },
            "header": {
             "fill": {
              "color": "#C8D4E3"
             },
             "line": {
              "color": "white"
             }
            },
            "type": "table"
           }
          ]
         },
         "layout": {
          "annotationdefaults": {
           "arrowcolor": "#2a3f5f",
           "arrowhead": 0,
           "arrowwidth": 1
          },
          "autotypenumbers": "strict",
          "coloraxis": {
           "colorbar": {
            "outlinewidth": 0,
            "ticks": ""
           }
          },
          "colorscale": {
           "diverging": [
            [
             0,
             "#8e0152"
            ],
            [
             0.1,
             "#c51b7d"
            ],
            [
             0.2,
             "#de77ae"
            ],
            [
             0.3,
             "#f1b6da"
            ],
            [
             0.4,
             "#fde0ef"
            ],
            [
             0.5,
             "#f7f7f7"
            ],
            [
             0.6,
             "#e6f5d0"
            ],
            [
             0.7,
             "#b8e186"
            ],
            [
             0.8,
             "#7fbc41"
            ],
            [
             0.9,
             "#4d9221"
            ],
            [
             1,
             "#276419"
            ]
           ],
           "sequential": [
            [
             0,
             "#0d0887"
            ],
            [
             0.1111111111111111,
             "#46039f"
            ],
            [
             0.2222222222222222,
             "#7201a8"
            ],
            [
             0.3333333333333333,
             "#9c179e"
            ],
            [
             0.4444444444444444,
             "#bd3786"
            ],
            [
             0.5555555555555556,
             "#d8576b"
            ],
            [
             0.6666666666666666,
             "#ed7953"
            ],
            [
             0.7777777777777778,
             "#fb9f3a"
            ],
            [
             0.8888888888888888,
             "#fdca26"
            ],
            [
             1,
             "#f0f921"
            ]
           ],
           "sequentialminus": [
            [
             0,
             "#0d0887"
            ],
            [
             0.1111111111111111,
             "#46039f"
            ],
            [
             0.2222222222222222,
             "#7201a8"
            ],
            [
             0.3333333333333333,
             "#9c179e"
            ],
            [
             0.4444444444444444,
             "#bd3786"
            ],
            [
             0.5555555555555556,
             "#d8576b"
            ],
            [
             0.6666666666666666,
             "#ed7953"
            ],
            [
             0.7777777777777778,
             "#fb9f3a"
            ],
            [
             0.8888888888888888,
             "#fdca26"
            ],
            [
             1,
             "#f0f921"
            ]
           ]
          },
          "colorway": [
           "#636efa",
           "#EF553B",
           "#00cc96",
           "#ab63fa",
           "#FFA15A",
           "#19d3f3",
           "#FF6692",
           "#B6E880",
           "#FF97FF",
           "#FECB52"
          ],
          "font": {
           "color": "#2a3f5f"
          },
          "geo": {
           "bgcolor": "white",
           "lakecolor": "white",
           "landcolor": "#E5ECF6",
           "showlakes": true,
           "showland": true,
           "subunitcolor": "white"
          },
          "hoverlabel": {
           "align": "left"
          },
          "hovermode": "closest",
          "mapbox": {
           "style": "light"
          },
          "paper_bgcolor": "white",
          "plot_bgcolor": "#E5ECF6",
          "polar": {
           "angularaxis": {
            "gridcolor": "white",
            "linecolor": "white",
            "ticks": ""
           },
           "bgcolor": "#E5ECF6",
           "radialaxis": {
            "gridcolor": "white",
            "linecolor": "white",
            "ticks": ""
           }
          },
          "scene": {
           "xaxis": {
            "backgroundcolor": "#E5ECF6",
            "gridcolor": "white",
            "gridwidth": 2,
            "linecolor": "white",
            "showbackground": true,
            "ticks": "",
            "zerolinecolor": "white"
           },
           "yaxis": {
            "backgroundcolor": "#E5ECF6",
            "gridcolor": "white",
            "gridwidth": 2,
            "linecolor": "white",
            "showbackground": true,
            "ticks": "",
            "zerolinecolor": "white"
           },
           "zaxis": {
            "backgroundcolor": "#E5ECF6",
            "gridcolor": "white",
            "gridwidth": 2,
            "linecolor": "white",
            "showbackground": true,
            "ticks": "",
            "zerolinecolor": "white"
           }
          },
          "shapedefaults": {
           "line": {
            "color": "#2a3f5f"
           }
          },
          "ternary": {
           "aaxis": {
            "gridcolor": "white",
            "linecolor": "white",
            "ticks": ""
           },
           "baxis": {
            "gridcolor": "white",
            "linecolor": "white",
            "ticks": ""
           },
           "bgcolor": "#E5ECF6",
           "caxis": {
            "gridcolor": "white",
            "linecolor": "white",
            "ticks": ""
           }
          },
          "title": {
           "x": 0.05
          },
          "xaxis": {
           "automargin": true,
           "gridcolor": "white",
           "linecolor": "white",
           "ticks": "",
           "title": {
            "standoff": 15
           },
           "zerolinecolor": "white",
           "zerolinewidth": 2
          },
          "yaxis": {
           "automargin": true,
           "gridcolor": "white",
           "linecolor": "white",
           "ticks": "",
           "title": {
            "standoff": 15
           },
           "zerolinecolor": "white",
           "zerolinewidth": 2
          }
         }
        },
        "xaxis": {
         "anchor": "y",
         "domain": [
          0,
          1
         ],
         "title": {
          "text": "New_Total"
         }
        },
        "yaxis": {
         "anchor": "x",
         "domain": [
          0,
          1
         ]
        }
       }
      },
      "text/html": [
       "<div>                            <div id=\"c78128bb-856d-47c9-b3f2-90d114d81211\" class=\"plotly-graph-div\" style=\"height:525px; width:100%;\"></div>            <script type=\"text/javascript\">                require([\"plotly\"], function(Plotly) {                    window.PLOTLYENV=window.PLOTLYENV || {};                                    if (document.getElementById(\"c78128bb-856d-47c9-b3f2-90d114d81211\")) {                    Plotly.newPlot(                        \"c78128bb-856d-47c9-b3f2-90d114d81211\",                        [{\"alignmentgroup\":\"True\",\"boxpoints\":\"all\",\"hovertemplate\":\"New_Total=%{x}<extra></extra>\",\"legendgroup\":\"\",\"marker\":{\"color\":\"#636efa\"},\"name\":\"\",\"notched\":false,\"offsetgroup\":\"\",\"orientation\":\"h\",\"showlegend\":false,\"x\":[33294.570233399994,114363.46,7194.005437499999,8264.1305502,20086.403526,36634.3889625,23165.2469223,8576.2037227,15011.9654265,58610.8,91598.4,51342.91,75528.075546,21275.521482599997,205891.71,98317.437876,116835.23,10586.7,4407.4812222,72686.89,28406.5586721,11175.7106412,14857.763356799998,8109.8973080999995,1108.85,7286.1822243,18412.313163299998,16412.9232204,11344.0961529,6615.9924757,19902.13,124604.6,35689.6,9744.2506539,10574.847044999999,16155.22,6062.6577312,8850.8808423,21074.591985299998,12940.208757,11869.421230799999,47382.928620299994,6097.6490601,1098.2192381999998,13265.5395096,2395.0066644,41816.6601867,16642.5001533,8724.9365532,14779.902494699998,22963.226390999997,17741.8649772,21818.0459322,80275.16447999999,80275.16447999999,28414.811564999996,26506.2657888,162657.8420452,1215.9184275,65585.24111789999,11214.613796399999,64597.7540376,19620.8125596,35259.351019199996,37612.119081599994,42305.233004999995,4217.1972139,82967.75066789999,16013.0826387,4380.9565647,77822.0212896,8098.3401408,11672.43,78871.85316989999,303460.62,534.07,30839.38,1993.2489801,21975.47,10621.293921,27118.429379999998,8172.75,21783.851861,14243.952624900001,58140.375791399994,22549.85,43223.71,22625.317574999997,79157.87,1091.9761776,11496.453294800001,19174.478343299998,20751.8719212,8482.82,10469.97,20132.4,10233.1274031,32848.1814654,29598.630213599998,31798.09,8849.8755324,31336.7780368,14192.823487000001,11876.9727447,7104.6029943,18590.36,38845.43,57921.01,3735.680535,25480.371464800002,31970.9433708,10621.293921,2428.31,23009.096577599998,11867.34,21345.57,48917.709527399995,61482.12,13532.936356799999,11567.92,6297.954799499999,57624.12,43978.3804026,70343.19363329999,67384.3,33845.17,72590.99,19297.47,103778.3825631,11458.97424],\"x0\":\" \",\"xaxis\":\"x\",\"y0\":\" \",\"yaxis\":\"y\",\"type\":\"box\"}],                        {\"template\":{\"data\":{\"bar\":[{\"error_x\":{\"color\":\"#2a3f5f\"},\"error_y\":{\"color\":\"#2a3f5f\"},\"marker\":{\"line\":{\"color\":\"#E5ECF6\",\"width\":0.5},\"pattern\":{\"fillmode\":\"overlay\",\"size\":10,\"solidity\":0.2}},\"type\":\"bar\"}],\"barpolar\":[{\"marker\":{\"line\":{\"color\":\"#E5ECF6\",\"width\":0.5},\"pattern\":{\"fillmode\":\"overlay\",\"size\":10,\"solidity\":0.2}},\"type\":\"barpolar\"}],\"carpet\":[{\"aaxis\":{\"endlinecolor\":\"#2a3f5f\",\"gridcolor\":\"white\",\"linecolor\":\"white\",\"minorgridcolor\":\"white\",\"startlinecolor\":\"#2a3f5f\"},\"baxis\":{\"endlinecolor\":\"#2a3f5f\",\"gridcolor\":\"white\",\"linecolor\":\"white\",\"minorgridcolor\":\"white\",\"startlinecolor\":\"#2a3f5f\"},\"type\":\"carpet\"}],\"choropleth\":[{\"colorbar\":{\"outlinewidth\":0,\"ticks\":\"\"},\"type\":\"choropleth\"}],\"contour\":[{\"colorbar\":{\"outlinewidth\":0,\"ticks\":\"\"},\"colorscale\":[[0.0,\"#0d0887\"],[0.1111111111111111,\"#46039f\"],[0.2222222222222222,\"#7201a8\"],[0.3333333333333333,\"#9c179e\"],[0.4444444444444444,\"#bd3786\"],[0.5555555555555556,\"#d8576b\"],[0.6666666666666666,\"#ed7953\"],[0.7777777777777778,\"#fb9f3a\"],[0.8888888888888888,\"#fdca26\"],[1.0,\"#f0f921\"]],\"type\":\"contour\"}],\"contourcarpet\":[{\"colorbar\":{\"outlinewidth\":0,\"ticks\":\"\"},\"type\":\"contourcarpet\"}],\"heatmap\":[{\"colorbar\":{\"outlinewidth\":0,\"ticks\":\"\"},\"colorscale\":[[0.0,\"#0d0887\"],[0.1111111111111111,\"#46039f\"],[0.2222222222222222,\"#7201a8\"],[0.3333333333333333,\"#9c179e\"],[0.4444444444444444,\"#bd3786\"],[0.5555555555555556,\"#d8576b\"],[0.6666666666666666,\"#ed7953\"],[0.7777777777777778,\"#fb9f3a\"],[0.8888888888888888,\"#fdca26\"],[1.0,\"#f0f921\"]],\"type\":\"heatmap\"}],\"heatmapgl\":[{\"colorbar\":{\"outlinewidth\":0,\"ticks\":\"\"},\"colorscale\":[[0.0,\"#0d0887\"],[0.1111111111111111,\"#46039f\"],[0.2222222222222222,\"#7201a8\"],[0.3333333333333333,\"#9c179e\"],[0.4444444444444444,\"#bd3786\"],[0.5555555555555556,\"#d8576b\"],[0.6666666666666666,\"#ed7953\"],[0.7777777777777778,\"#fb9f3a\"],[0.8888888888888888,\"#fdca26\"],[1.0,\"#f0f921\"]],\"type\":\"heatmapgl\"}],\"histogram\":[{\"marker\":{\"pattern\":{\"fillmode\":\"overlay\",\"size\":10,\"solidity\":0.2}},\"type\":\"histogram\"}],\"histogram2d\":[{\"colorbar\":{\"outlinewidth\":0,\"ticks\":\"\"},\"colorscale\":[[0.0,\"#0d0887\"],[0.1111111111111111,\"#46039f\"],[0.2222222222222222,\"#7201a8\"],[0.3333333333333333,\"#9c179e\"],[0.4444444444444444,\"#bd3786\"],[0.5555555555555556,\"#d8576b\"],[0.6666666666666666,\"#ed7953\"],[0.7777777777777778,\"#fb9f3a\"],[0.8888888888888888,\"#fdca26\"],[1.0,\"#f0f921\"]],\"type\":\"histogram2d\"}],\"histogram2dcontour\":[{\"colorbar\":{\"outlinewidth\":0,\"ticks\":\"\"},\"colorscale\":[[0.0,\"#0d0887\"],[0.1111111111111111,\"#46039f\"],[0.2222222222222222,\"#7201a8\"],[0.3333333333333333,\"#9c179e\"],[0.4444444444444444,\"#bd3786\"],[0.5555555555555556,\"#d8576b\"],[0.6666666666666666,\"#ed7953\"],[0.7777777777777778,\"#fb9f3a\"],[0.8888888888888888,\"#fdca26\"],[1.0,\"#f0f921\"]],\"type\":\"histogram2dcontour\"}],\"mesh3d\":[{\"colorbar\":{\"outlinewidth\":0,\"ticks\":\"\"},\"type\":\"mesh3d\"}],\"parcoords\":[{\"line\":{\"colorbar\":{\"outlinewidth\":0,\"ticks\":\"\"}},\"type\":\"parcoords\"}],\"pie\":[{\"automargin\":true,\"type\":\"pie\"}],\"scatter\":[{\"marker\":{\"colorbar\":{\"outlinewidth\":0,\"ticks\":\"\"}},\"type\":\"scatter\"}],\"scatter3d\":[{\"line\":{\"colorbar\":{\"outlinewidth\":0,\"ticks\":\"\"}},\"marker\":{\"colorbar\":{\"outlinewidth\":0,\"ticks\":\"\"}},\"type\":\"scatter3d\"}],\"scattercarpet\":[{\"marker\":{\"colorbar\":{\"outlinewidth\":0,\"ticks\":\"\"}},\"type\":\"scattercarpet\"}],\"scattergeo\":[{\"marker\":{\"colorbar\":{\"outlinewidth\":0,\"ticks\":\"\"}},\"type\":\"scattergeo\"}],\"scattergl\":[{\"marker\":{\"colorbar\":{\"outlinewidth\":0,\"ticks\":\"\"}},\"type\":\"scattergl\"}],\"scattermapbox\":[{\"marker\":{\"colorbar\":{\"outlinewidth\":0,\"ticks\":\"\"}},\"type\":\"scattermapbox\"}],\"scatterpolar\":[{\"marker\":{\"colorbar\":{\"outlinewidth\":0,\"ticks\":\"\"}},\"type\":\"scatterpolar\"}],\"scatterpolargl\":[{\"marker\":{\"colorbar\":{\"outlinewidth\":0,\"ticks\":\"\"}},\"type\":\"scatterpolargl\"}],\"scatterternary\":[{\"marker\":{\"colorbar\":{\"outlinewidth\":0,\"ticks\":\"\"}},\"type\":\"scatterternary\"}],\"surface\":[{\"colorbar\":{\"outlinewidth\":0,\"ticks\":\"\"},\"colorscale\":[[0.0,\"#0d0887\"],[0.1111111111111111,\"#46039f\"],[0.2222222222222222,\"#7201a8\"],[0.3333333333333333,\"#9c179e\"],[0.4444444444444444,\"#bd3786\"],[0.5555555555555556,\"#d8576b\"],[0.6666666666666666,\"#ed7953\"],[0.7777777777777778,\"#fb9f3a\"],[0.8888888888888888,\"#fdca26\"],[1.0,\"#f0f921\"]],\"type\":\"surface\"}],\"table\":[{\"cells\":{\"fill\":{\"color\":\"#EBF0F8\"},\"line\":{\"color\":\"white\"}},\"header\":{\"fill\":{\"color\":\"#C8D4E3\"},\"line\":{\"color\":\"white\"}},\"type\":\"table\"}]},\"layout\":{\"annotationdefaults\":{\"arrowcolor\":\"#2a3f5f\",\"arrowhead\":0,\"arrowwidth\":1},\"autotypenumbers\":\"strict\",\"coloraxis\":{\"colorbar\":{\"outlinewidth\":0,\"ticks\":\"\"}},\"colorscale\":{\"diverging\":[[0,\"#8e0152\"],[0.1,\"#c51b7d\"],[0.2,\"#de77ae\"],[0.3,\"#f1b6da\"],[0.4,\"#fde0ef\"],[0.5,\"#f7f7f7\"],[0.6,\"#e6f5d0\"],[0.7,\"#b8e186\"],[0.8,\"#7fbc41\"],[0.9,\"#4d9221\"],[1,\"#276419\"]],\"sequential\":[[0.0,\"#0d0887\"],[0.1111111111111111,\"#46039f\"],[0.2222222222222222,\"#7201a8\"],[0.3333333333333333,\"#9c179e\"],[0.4444444444444444,\"#bd3786\"],[0.5555555555555556,\"#d8576b\"],[0.6666666666666666,\"#ed7953\"],[0.7777777777777778,\"#fb9f3a\"],[0.8888888888888888,\"#fdca26\"],[1.0,\"#f0f921\"]],\"sequentialminus\":[[0.0,\"#0d0887\"],[0.1111111111111111,\"#46039f\"],[0.2222222222222222,\"#7201a8\"],[0.3333333333333333,\"#9c179e\"],[0.4444444444444444,\"#bd3786\"],[0.5555555555555556,\"#d8576b\"],[0.6666666666666666,\"#ed7953\"],[0.7777777777777778,\"#fb9f3a\"],[0.8888888888888888,\"#fdca26\"],[1.0,\"#f0f921\"]]},\"colorway\":[\"#636efa\",\"#EF553B\",\"#00cc96\",\"#ab63fa\",\"#FFA15A\",\"#19d3f3\",\"#FF6692\",\"#B6E880\",\"#FF97FF\",\"#FECB52\"],\"font\":{\"color\":\"#2a3f5f\"},\"geo\":{\"bgcolor\":\"white\",\"lakecolor\":\"white\",\"landcolor\":\"#E5ECF6\",\"showlakes\":true,\"showland\":true,\"subunitcolor\":\"white\"},\"hoverlabel\":{\"align\":\"left\"},\"hovermode\":\"closest\",\"mapbox\":{\"style\":\"light\"},\"paper_bgcolor\":\"white\",\"plot_bgcolor\":\"#E5ECF6\",\"polar\":{\"angularaxis\":{\"gridcolor\":\"white\",\"linecolor\":\"white\",\"ticks\":\"\"},\"bgcolor\":\"#E5ECF6\",\"radialaxis\":{\"gridcolor\":\"white\",\"linecolor\":\"white\",\"ticks\":\"\"}},\"scene\":{\"xaxis\":{\"backgroundcolor\":\"#E5ECF6\",\"gridcolor\":\"white\",\"gridwidth\":2,\"linecolor\":\"white\",\"showbackground\":true,\"ticks\":\"\",\"zerolinecolor\":\"white\"},\"yaxis\":{\"backgroundcolor\":\"#E5ECF6\",\"gridcolor\":\"white\",\"gridwidth\":2,\"linecolor\":\"white\",\"showbackground\":true,\"ticks\":\"\",\"zerolinecolor\":\"white\"},\"zaxis\":{\"backgroundcolor\":\"#E5ECF6\",\"gridcolor\":\"white\",\"gridwidth\":2,\"linecolor\":\"white\",\"showbackground\":true,\"ticks\":\"\",\"zerolinecolor\":\"white\"}},\"shapedefaults\":{\"line\":{\"color\":\"#2a3f5f\"}},\"ternary\":{\"aaxis\":{\"gridcolor\":\"white\",\"linecolor\":\"white\",\"ticks\":\"\"},\"baxis\":{\"gridcolor\":\"white\",\"linecolor\":\"white\",\"ticks\":\"\"},\"bgcolor\":\"#E5ECF6\",\"caxis\":{\"gridcolor\":\"white\",\"linecolor\":\"white\",\"ticks\":\"\"}},\"title\":{\"x\":0.05},\"xaxis\":{\"automargin\":true,\"gridcolor\":\"white\",\"linecolor\":\"white\",\"ticks\":\"\",\"title\":{\"standoff\":15},\"zerolinecolor\":\"white\",\"zerolinewidth\":2},\"yaxis\":{\"automargin\":true,\"gridcolor\":\"white\",\"linecolor\":\"white\",\"ticks\":\"\",\"title\":{\"standoff\":15},\"zerolinecolor\":\"white\",\"zerolinewidth\":2}}},\"xaxis\":{\"anchor\":\"y\",\"domain\":[0.0,1.0],\"title\":{\"text\":\"New_Total\"}},\"yaxis\":{\"anchor\":\"x\",\"domain\":[0.0,1.0]},\"legend\":{\"tracegroupgap\":0},\"margin\":{\"t\":60},\"boxmode\":\"group\"},                        {\"responsive\": true}                    ).then(function(){\n",
       "                            \n",
       "var gd = document.getElementById('c78128bb-856d-47c9-b3f2-90d114d81211');\n",
       "var x = new MutationObserver(function (mutations, observer) {{\n",
       "        var display = window.getComputedStyle(gd).display;\n",
       "        if (!display || display === 'none') {{\n",
       "            console.log([gd, 'removed!']);\n",
       "            Plotly.purge(gd);\n",
       "            observer.disconnect();\n",
       "        }}\n",
       "}});\n",
       "\n",
       "// Listen for the removal of the full notebook cells\n",
       "var notebookContainer = gd.closest('#notebook-container');\n",
       "if (notebookContainer) {{\n",
       "    x.observe(notebookContainer, {childList: true});\n",
       "}}\n",
       "\n",
       "// Listen for the clearing of the current output cell\n",
       "var outputEl = gd.closest('.output');\n",
       "if (outputEl) {{\n",
       "    x.observe(outputEl, {childList: true});\n",
       "}}\n",
       "\n",
       "                        })                };                });            </script>        </div>"
      ]
     },
     "metadata": {},
     "output_type": "display_data"
    }
   ],
   "source": [
    "# Construcao do box-plot mostrando todos os individuais valores\n",
    "# Ha 9 outliers interferindo nos valores da media e mediana. O ideal seria entender esses e caso possivel retira-los\n",
    "# p/ uma interpretacao mais fiel.\n",
    "\n",
    "px.box(nova_tabela, x=\"New_Total\", points=\"all\")"
   ]
  },
  {
   "cell_type": "code",
   "execution_count": 31,
   "id": "a101a361",
   "metadata": {},
   "outputs": [
    {
     "data": {
      "text/plain": [
       "<AxesSubplot:title={'center':'Qty quote created in Feb 2022'}, xlabel='Created Date'>"
      ]
     },
     "execution_count": 31,
     "metadata": {},
     "output_type": "execute_result"
    },
    {
     "data": {
      "image/png": "[encoded data removed]",
      "text/plain": [
       "<Figure size 432x288 with 1 Axes>"
      ]
     },
     "metadata": {
      "needs_background": "light"
     },
     "output_type": "display_data"
    }
   ],
   "source": [
    "# Criar grafico sequencial mostrando qtde quotes criados no mes de fev. 2022 p/ variavel New_Total (geral) / CAN$\n",
    "\n",
    "nova_tabela.plot(x='Created Date', y='New_Total', title='Qty quote created in Feb 2022')\n"
   ]
  },
  {
   "cell_type": "code",
   "execution_count": 20,
   "id": "105f1a67",
   "metadata": {},
   "outputs": [
    {
     "name": "stdout",
     "output_type": "stream",
     "text": [
      "4432974.9\n"
     ]
    }
   ],
   "source": [
    "# Calcular o total de cotacoes (variavel New_Total / CAN$)\n",
    "# No periodo avaliado, houveram \n",
    "df  = quotes_df.loc[fevereiro] \n",
    "Total_final = round(df[\"New_Total\"].sum() , 2)\n",
    "print(Total_final)\n"
   ]
  },
  {
   "cell_type": "code",
   "execution_count": 9,
   "id": "817ae78c",
   "metadata": {},
   "outputs": [
    {
     "data": {
      "text/plain": [
       "array(['Coord.', 'GV'], dtype=object)"
      ]
     },
     "execution_count": 9,
     "metadata": {},
     "output_type": "execute_result"
    }
   ],
   "source": [
    "# Listar os subgrupos p/ calcular a estatistica estratificada. \n",
    "#Existem 2 tipos de grupos que criam as cotacoes: Coord. e GV.\n",
    "\n",
    "quotes_df[\"Username\"].unique()\n"
   ]
  },
  {
   "cell_type": "code",
   "execution_count": 44,
   "id": "fd4d9bc0",
   "metadata": {},
   "outputs": [],
   "source": [
    "#Contando quantas cotacoes foram criadas por cada tipo de usuario\n",
    "#Os coord. criaram 73 e os GV criaram 57 cotacoes no periodo de fev. 2022\n",
    "\n",
    "qty_quote_created = nova_tabela[\"Username\"].value_counts() # criada uma nova variavel \"qty_quote_created\" q recebe ...\n"
   ]
  },
  {
   "cell_type": "code",
   "execution_count": 37,
   "id": "562ee1a0",
   "metadata": {},
   "outputs": [
    {
     "data": {
      "text/plain": [
       "Coord.    73\n",
       "GV        57\n",
       "Name: Username, dtype: int64"
      ]
     },
     "execution_count": 37,
     "metadata": {},
     "output_type": "execute_result"
    }
   ],
   "source": [
    "#Contando quantas cotacoes foram criadas por cada tipo de usuario\n",
    "qty_quote_created  "
   ]
  },
  {
   "cell_type": "code",
   "execution_count": 38,
   "id": "940ca8d1",
   "metadata": {},
   "outputs": [
    {
     "data": {
      "text/plain": [
       "Index(['Coord.', 'GV'], dtype='object')"
      ]
     },
     "execution_count": 38,
     "metadata": {},
     "output_type": "execute_result"
    }
   ],
   "source": [
    "#Definindo o eixo label (nomes)\n",
    "\n",
    "qty_quote_created.index\n"
   ]
  },
  {
   "cell_type": "code",
   "execution_count": 39,
   "id": "a42faccc",
   "metadata": {},
   "outputs": [
    {
     "data": {
      "text/plain": [
       "array([73, 57], dtype=int64)"
      ]
     },
     "execution_count": 39,
     "metadata": {},
     "output_type": "execute_result"
    }
   ],
   "source": [
    "#Definindo o eixo qtde \n",
    "\n",
    "qty_quote_created.values\n"
   ]
  },
  {
   "cell_type": "code",
   "execution_count": 42,
   "id": "582c80bb",
   "metadata": {},
   "outputs": [
    {
     "data": {
      "application/vnd.plotly.v1+json": {
       "config": {
        "plotlyServerURL": "https://plot.ly"
       },
       "data": [
        {
         "domain": {
          "x": [
           0,
           1
          ],
          "y": [
           0,
           1
          ]
         },
         "hovertemplate": "index=%{label}<br>value=%{value}<extra></extra>",
         "labels": [
          "Coord.",
          "GV"
         ],
         "legendgroup": "",
         "name": "",
         "showlegend": true,
         "type": "pie",
         "values": [
          73,
          57
         ]
        }
       ],
       "layout": {
        "legend": {
         "tracegroupgap": 0
        },
        "margin": {
         "t": 60
        },
        "template": {
         "data": {
          "bar": [
           {
            "error_x": {
             "color": "#2a3f5f"
            },
            "error_y": {
             "color": "#2a3f5f"
            },
            "marker": {
             "line": {
              "color": "#E5ECF6",
              "width": 0.5
             },
             "pattern": {
              "fillmode": "overlay",
              "size": 10,
              "solidity": 0.2
             }
            },
            "type": "bar"
           }
          ],
          "barpolar": [
           {
            "marker": {
             "line": {
              "color": "#E5ECF6",
              "width": 0.5
             },
             "pattern": {
              "fillmode": "overlay",
              "size": 10,
              "solidity": 0.2
             }
            },
            "type": "barpolar"
           }
          ],
          "carpet": [
           {
            "aaxis": {
             "endlinecolor": "#2a3f5f",
             "gridcolor": "white",
             "linecolor": "white",
             "minorgridcolor": "white",
             "startlinecolor": "#2a3f5f"
            },
            "baxis": {
             "endlinecolor": "#2a3f5f",
             "gridcolor": "white",
             "linecolor": "white",
             "minorgridcolor": "white",
             "startlinecolor": "#2a3f5f"
            },
            "type": "carpet"
           }
          ],
          "choropleth": [
           {
            "colorbar": {
             "outlinewidth": 0,
             "ticks": ""
            },
            "type": "choropleth"
           }
          ],
          "contour": [
           {
            "colorbar": {
             "outlinewidth": 0,
             "ticks": ""
            },
            "colorscale": [
             [
              0,
              "#0d0887"
             ],
             [
              0.1111111111111111,
              "#46039f"
             ],
             [
              0.2222222222222222,
              "#7201a8"
             ],
             [
              0.3333333333333333,
              "#9c179e"
             ],
             [
              0.4444444444444444,
              "#bd3786"
             ],
             [
              0.5555555555555556,
              "#d8576b"
             ],
             [
              0.6666666666666666,
              "#ed7953"
             ],
             [
              0.7777777777777778,
              "#fb9f3a"
             ],
             [
              0.8888888888888888,
              "#fdca26"
             ],
             [
              1,
              "#f0f921"
             ]
            ],
            "type": "contour"
           }
          ],
          "contourcarpet": [
           {
            "colorbar": {
             "outlinewidth": 0,
             "ticks": ""
            },
            "type": "contourcarpet"
           }
          ],
          "heatmap": [
           {
            "colorbar": {
             "outlinewidth": 0,
             "ticks": ""
            },
            "colorscale": [
             [
              0,
              "#0d0887"
             ],
             [
              0.1111111111111111,
              "#46039f"
             ],
             [
              0.2222222222222222,
              "#7201a8"
             ],
             [
              0.3333333333333333,
              "#9c179e"
             ],
             [
              0.4444444444444444,
              "#bd3786"
             ],
             [
              0.5555555555555556,
              "#d8576b"
             ],
             [
              0.6666666666666666,
              "#ed7953"
             ],
             [
              0.7777777777777778,
              "#fb9f3a"
             ],
             [
              0.8888888888888888,
              "#fdca26"
             ],
             [
              1,
              "#f0f921"
             ]
            ],
            "type": "heatmap"
           }
          ],
          "heatmapgl": [
           {
            "colorbar": {
             "outlinewidth": 0,
             "ticks": ""
            },
            "colorscale": [
             [
              0,
              "#0d0887"
             ],
             [
              0.1111111111111111,
              "#46039f"
             ],
             [
              0.2222222222222222,
              "#7201a8"
             ],
             [
              0.3333333333333333,
              "#9c179e"
             ],
             [
              0.4444444444444444,
              "#bd3786"
             ],
             [
              0.5555555555555556,
              "#d8576b"
             ],
             [
              0.6666666666666666,
              "#ed7953"
             ],
             [
              0.7777777777777778,
              "#fb9f3a"
             ],
             [
              0.8888888888888888,
              "#fdca26"
             ],
             [
              1,
              "#f0f921"
             ]
            ],
            "type": "heatmapgl"
           }
          ],
          "histogram": [
           {
            "marker": {
             "pattern": {
              "fillmode": "overlay",
              "size": 10,
              "solidity": 0.2
             }
            },
            "type": "histogram"
           }
          ],
          "histogram2d": [
           {
            "colorbar": {
             "outlinewidth": 0,
             "ticks": ""
            },
            "colorscale": [
             [
              0,
              "#0d0887"
             ],
             [
              0.1111111111111111,
              "#46039f"
             ],
             [
              0.2222222222222222,
              "#7201a8"
             ],
             [
              0.3333333333333333,
              "#9c179e"
             ],
             [
              0.4444444444444444,
              "#bd3786"
             ],
             [
              0.5555555555555556,
              "#d8576b"
             ],
             [
              0.6666666666666666,
              "#ed7953"
             ],
             [
              0.7777777777777778,
              "#fb9f3a"
             ],
             [
              0.8888888888888888,
              "#fdca26"
             ],
             [
              1,
              "#f0f921"
             ]
            ],
            "type": "histogram2d"
           }
          ],
          "histogram2dcontour": [
           {
            "colorbar": {
             "outlinewidth": 0,
             "ticks": ""
            },
            "colorscale": [
             [
              0,
              "#0d0887"
             ],
             [
              0.1111111111111111,
              "#46039f"
             ],
             [
              0.2222222222222222,
              "#7201a8"
             ],
             [
              0.3333333333333333,
              "#9c179e"
             ],
             [
              0.4444444444444444,
              "#bd3786"
             ],
             [
              0.5555555555555556,
              "#d8576b"
             ],
             [
              0.6666666666666666,
              "#ed7953"
             ],
             [
              0.7777777777777778,
              "#fb9f3a"
             ],
             [
              0.8888888888888888,
              "#fdca26"
             ],
             [
              1,
              "#f0f921"
             ]
            ],
            "type": "histogram2dcontour"
           }
          ],
          "mesh3d": [
           {
            "colorbar": {
             "outlinewidth": 0,
             "ticks": ""
            },
            "type": "mesh3d"
           }
          ],
          "parcoords": [
           {
            "line": {
             "colorbar": {
              "outlinewidth": 0,
              "ticks": ""
             }
            },
            "type": "parcoords"
           }
          ],
          "pie": [
           {
            "automargin": true,
            "type": "pie"
           }
          ],
          "scatter": [
           {
            "marker": {
             "colorbar": {
              "outlinewidth": 0,
              "ticks": ""
             }
            },
            "type": "scatter"
           }
          ],
          "scatter3d": [
           {
            "line": {
             "colorbar": {
              "outlinewidth": 0,
              "ticks": ""
             }
            },
            "marker": {
             "colorbar": {
              "outlinewidth": 0,
              "ticks": ""
             }
            },
            "type": "scatter3d"
           }
          ],
          "scattercarpet": [
           {
            "marker": {
             "colorbar": {
              "outlinewidth": 0,
              "ticks": ""
             }
            },
            "type": "scattercarpet"
           }
          ],
          "scattergeo": [
           {
            "marker": {
             "colorbar": {
              "outlinewidth": 0,
              "ticks": ""
             }
            },
            "type": "scattergeo"
           }
          ],
          "scattergl": [
           {
            "marker": {
             "colorbar": {
              "outlinewidth": 0,
              "ticks": ""
             }
            },
            "type": "scattergl"
           }
          ],
          "scattermapbox": [
           {
            "marker": {
             "colorbar": {
              "outlinewidth": 0,
              "ticks": ""
             }
            },
            "type": "scattermapbox"
           }
          ],
          "scatterpolar": [
           {
            "marker": {
             "colorbar": {
              "outlinewidth": 0,
              "ticks": ""
             }
            },
            "type": "scatterpolar"
           }
          ],
          "scatterpolargl": [
           {
            "marker": {
             "colorbar": {
              "outlinewidth": 0,
              "ticks": ""
             }
            },
            "type": "scatterpolargl"
           }
          ],
          "scatterternary": [
           {
            "marker": {
             "colorbar": {
              "outlinewidth": 0,
              "ticks": ""
             }
            },
            "type": "scatterternary"
           }
          ],
          "surface": [
           {
            "colorbar": {
             "outlinewidth": 0,
             "ticks": ""
            },
            "colorscale": [
             [
              0,
              "#0d0887"
             ],
             [
              0.1111111111111111,
              "#46039f"
             ],
             [
              0.2222222222222222,
              "#7201a8"
             ],
             [
              0.3333333333333333,
              "#9c179e"
             ],
             [
              0.4444444444444444,
              "#bd3786"
             ],
             [
              0.5555555555555556,
              "#d8576b"
             ],
             [
              0.6666666666666666,
              "#ed7953"
             ],
             [
              0.7777777777777778,
              "#fb9f3a"
             ],
             [
              0.8888888888888888,
              "#fdca26"
             ],
             [
              1,
              "#f0f921"
             ]
            ],
            "type": "surface"
           }
          ],
          "table": [
           {
            "cells": {
             "fill": {
              "color": "#EBF0F8"
             },
             "line": {
              "color": "white"
             }
            },
            "header": {
             "fill": {
              "color": "#C8D4E3"
             },
             "line": {
              "color": "white"
             }
            },
            "type": "table"
           }
          ]
         },
         "layout": {
          "annotationdefaults": {
           "arrowcolor": "#2a3f5f",
           "arrowhead": 0,
           "arrowwidth": 1
          },
          "autotypenumbers": "strict",
          "coloraxis": {
           "colorbar": {
            "outlinewidth": 0,
            "ticks": ""
           }
          },
          "colorscale": {
           "diverging": [
            [
             0,
             "#8e0152"
            ],
            [
             0.1,
             "#c51b7d"
            ],
            [
             0.2,
             "#de77ae"
            ],
            [
             0.3,
             "#f1b6da"
            ],
            [
             0.4,
             "#fde0ef"
            ],
            [
             0.5,
             "#f7f7f7"
            ],
            [
             0.6,
             "#e6f5d0"
            ],
            [
             0.7,
             "#b8e186"
            ],
            [
             0.8,
             "#7fbc41"
            ],
            [
             0.9,
             "#4d9221"
            ],
            [
             1,
             "#276419"
            ]
           ],
           "sequential": [
            [
             0,
             "#0d0887"
            ],
            [
             0.1111111111111111,
             "#46039f"
            ],
            [
             0.2222222222222222,
             "#7201a8"
            ],
            [
             0.3333333333333333,
             "#9c179e"
            ],
            [
             0.4444444444444444,
             "#bd3786"
            ],
            [
             0.5555555555555556,
             "#d8576b"
            ],
            [
             0.6666666666666666,
             "#ed7953"
            ],
            [
             0.7777777777777778,
             "#fb9f3a"
            ],
            [
             0.8888888888888888,
             "#fdca26"
            ],
            [
             1,
             "#f0f921"
            ]
           ],
           "sequentialminus": [
            [
             0,
             "#0d0887"
            ],
            [
             0.1111111111111111,
             "#46039f"
            ],
            [
             0.2222222222222222,
             "#7201a8"
            ],
            [
             0.3333333333333333,
             "#9c179e"
            ],
            [
             0.4444444444444444,
             "#bd3786"
            ],
            [
             0.5555555555555556,
             "#d8576b"
            ],
            [
             0.6666666666666666,
             "#ed7953"
            ],
            [
             0.7777777777777778,
             "#fb9f3a"
            ],
            [
             0.8888888888888888,
             "#fdca26"
            ],
            [
             1,
             "#f0f921"
            ]
           ]
          },
          "colorway": [
           "#636efa",
           "#EF553B",
           "#00cc96",
           "#ab63fa",
           "#FFA15A",
           "#19d3f3",
           "#FF6692",
           "#B6E880",
           "#FF97FF",
           "#FECB52"
          ],
          "font": {
           "color": "#2a3f5f"
          },
          "geo": {
           "bgcolor": "white",
           "lakecolor": "white",
           "landcolor": "#E5ECF6",
           "showlakes": true,
           "showland": true,
           "subunitcolor": "white"
          },
          "hoverlabel": {
           "align": "left"
          },
          "hovermode": "closest",
          "mapbox": {
           "style": "light"
          },
          "paper_bgcolor": "white",
          "plot_bgcolor": "#E5ECF6",
          "polar": {
           "angularaxis": {
            "gridcolor": "white",
            "linecolor": "white",
            "ticks": ""
           },
           "bgcolor": "#E5ECF6",
           "radialaxis": {
            "gridcolor": "white",
            "linecolor": "white",
            "ticks": ""
           }
          },
          "scene": {
           "xaxis": {
            "backgroundcolor": "#E5ECF6",
            "gridcolor": "white",
            "gridwidth": 2,
            "linecolor": "white",
            "showbackground": true,
            "ticks": "",
            "zerolinecolor": "white"
           },
           "yaxis": {
            "backgroundcolor": "#E5ECF6",
            "gridcolor": "white",
            "gridwidth": 2,
            "linecolor": "white",
            "showbackground": true,
            "ticks": "",
            "zerolinecolor": "white"
           },
           "zaxis": {
            "backgroundcolor": "#E5ECF6",
            "gridcolor": "white",
            "gridwidth": 2,
            "linecolor": "white",
            "showbackground": true,
            "ticks": "",
            "zerolinecolor": "white"
           }
          },
          "shapedefaults": {
           "line": {
            "color": "#2a3f5f"
           }
          },
          "ternary": {
           "aaxis": {
            "gridcolor": "white",
            "linecolor": "white",
            "ticks": ""
           },
           "baxis": {
            "gridcolor": "white",
            "linecolor": "white",
            "ticks": ""
           },
           "bgcolor": "#E5ECF6",
           "caxis": {
            "gridcolor": "white",
            "linecolor": "white",
            "ticks": ""
           }
          },
          "title": {
           "x": 0.05
          },
          "xaxis": {
           "automargin": true,
           "gridcolor": "white",
           "linecolor": "white",
           "ticks": "",
           "title": {
            "standoff": 15
           },
           "zerolinecolor": "white",
           "zerolinewidth": 2
          },
          "yaxis": {
           "automargin": true,
           "gridcolor": "white",
           "linecolor": "white",
           "ticks": "",
           "title": {
            "standoff": 15
           },
           "zerolinecolor": "white",
           "zerolinewidth": 2
          }
         }
        }
       }
      },
      "text/html": [
       "<div>                            <div id=\"b7c53fd2-d0fa-42b1-9008-54deec5e26c4\" class=\"plotly-graph-div\" style=\"height:525px; width:100%;\"></div>            <script type=\"text/javascript\">                require([\"plotly\"], function(Plotly) {                    window.PLOTLYENV=window.PLOTLYENV || {};                                    if (document.getElementById(\"b7c53fd2-d0fa-42b1-9008-54deec5e26c4\")) {                    Plotly.newPlot(                        \"b7c53fd2-d0fa-42b1-9008-54deec5e26c4\",                        [{\"domain\":{\"x\":[0.0,1.0],\"y\":[0.0,1.0]},\"hovertemplate\":\"index=%{label}<br>value=%{value}<extra></extra>\",\"labels\":[\"Coord.\",\"GV\"],\"legendgroup\":\"\",\"name\":\"\",\"showlegend\":true,\"values\":[73,57],\"type\":\"pie\"}],                        {\"template\":{\"data\":{\"bar\":[{\"error_x\":{\"color\":\"#2a3f5f\"},\"error_y\":{\"color\":\"#2a3f5f\"},\"marker\":{\"line\":{\"color\":\"#E5ECF6\",\"width\":0.5},\"pattern\":{\"fillmode\":\"overlay\",\"size\":10,\"solidity\":0.2}},\"type\":\"bar\"}],\"barpolar\":[{\"marker\":{\"line\":{\"color\":\"#E5ECF6\",\"width\":0.5},\"pattern\":{\"fillmode\":\"overlay\",\"size\":10,\"solidity\":0.2}},\"type\":\"barpolar\"}],\"carpet\":[{\"aaxis\":{\"endlinecolor\":\"#2a3f5f\",\"gridcolor\":\"white\",\"linecolor\":\"white\",\"minorgridcolor\":\"white\",\"startlinecolor\":\"#2a3f5f\"},\"baxis\":{\"endlinecolor\":\"#2a3f5f\",\"gridcolor\":\"white\",\"linecolor\":\"white\",\"minorgridcolor\":\"white\",\"startlinecolor\":\"#2a3f5f\"},\"type\":\"carpet\"}],\"choropleth\":[{\"colorbar\":{\"outlinewidth\":0,\"ticks\":\"\"},\"type\":\"choropleth\"}],\"contour\":[{\"colorbar\":{\"outlinewidth\":0,\"ticks\":\"\"},\"colorscale\":[[0.0,\"#0d0887\"],[0.1111111111111111,\"#46039f\"],[0.2222222222222222,\"#7201a8\"],[0.3333333333333333,\"#9c179e\"],[0.4444444444444444,\"#bd3786\"],[0.5555555555555556,\"#d8576b\"],[0.6666666666666666,\"#ed7953\"],[0.7777777777777778,\"#fb9f3a\"],[0.8888888888888888,\"#fdca26\"],[1.0,\"#f0f921\"]],\"type\":\"contour\"}],\"contourcarpet\":[{\"colorbar\":{\"outlinewidth\":0,\"ticks\":\"\"},\"type\":\"contourcarpet\"}],\"heatmap\":[{\"colorbar\":{\"outlinewidth\":0,\"ticks\":\"\"},\"colorscale\":[[0.0,\"#0d0887\"],[0.1111111111111111,\"#46039f\"],[0.2222222222222222,\"#7201a8\"],[0.3333333333333333,\"#9c179e\"],[0.4444444444444444,\"#bd3786\"],[0.5555555555555556,\"#d8576b\"],[0.6666666666666666,\"#ed7953\"],[0.7777777777777778,\"#fb9f3a\"],[0.8888888888888888,\"#fdca26\"],[1.0,\"#f0f921\"]],\"type\":\"heatmap\"}],\"heatmapgl\":[{\"colorbar\":{\"outlinewidth\":0,\"ticks\":\"\"},\"colorscale\":[[0.0,\"#0d0887\"],[0.1111111111111111,\"#46039f\"],[0.2222222222222222,\"#7201a8\"],[0.3333333333333333,\"#9c179e\"],[0.4444444444444444,\"#bd3786\"],[0.5555555555555556,\"#d8576b\"],[0.6666666666666666,\"#ed7953\"],[0.7777777777777778,\"#fb9f3a\"],[0.8888888888888888,\"#fdca26\"],[1.0,\"#f0f921\"]],\"type\":\"heatmapgl\"}],\"histogram\":[{\"marker\":{\"pattern\":{\"fillmode\":\"overlay\",\"size\":10,\"solidity\":0.2}},\"type\":\"histogram\"}],\"histogram2d\":[{\"colorbar\":{\"outlinewidth\":0,\"ticks\":\"\"},\"colorscale\":[[0.0,\"#0d0887\"],[0.1111111111111111,\"#46039f\"],[0.2222222222222222,\"#7201a8\"],[0.3333333333333333,\"#9c179e\"],[0.4444444444444444,\"#bd3786\"],[0.5555555555555556,\"#d8576b\"],[0.6666666666666666,\"#ed7953\"],[0.7777777777777778,\"#fb9f3a\"],[0.8888888888888888,\"#fdca26\"],[1.0,\"#f0f921\"]],\"type\":\"histogram2d\"}],\"histogram2dcontour\":[{\"colorbar\":{\"outlinewidth\":0,\"ticks\":\"\"},\"colorscale\":[[0.0,\"#0d0887\"],[0.1111111111111111,\"#46039f\"],[0.2222222222222222,\"#7201a8\"],[0.3333333333333333,\"#9c179e\"],[0.4444444444444444,\"#bd3786\"],[0.5555555555555556,\"#d8576b\"],[0.6666666666666666,\"#ed7953\"],[0.7777777777777778,\"#fb9f3a\"],[0.8888888888888888,\"#fdca26\"],[1.0,\"#f0f921\"]],\"type\":\"histogram2dcontour\"}],\"mesh3d\":[{\"colorbar\":{\"outlinewidth\":0,\"ticks\":\"\"},\"type\":\"mesh3d\"}],\"parcoords\":[{\"line\":{\"colorbar\":{\"outlinewidth\":0,\"ticks\":\"\"}},\"type\":\"parcoords\"}],\"pie\":[{\"automargin\":true,\"type\":\"pie\"}],\"scatter\":[{\"marker\":{\"colorbar\":{\"outlinewidth\":0,\"ticks\":\"\"}},\"type\":\"scatter\"}],\"scatter3d\":[{\"line\":{\"colorbar\":{\"outlinewidth\":0,\"ticks\":\"\"}},\"marker\":{\"colorbar\":{\"outlinewidth\":0,\"ticks\":\"\"}},\"type\":\"scatter3d\"}],\"scattercarpet\":[{\"marker\":{\"colorbar\":{\"outlinewidth\":0,\"ticks\":\"\"}},\"type\":\"scattercarpet\"}],\"scattergeo\":[{\"marker\":{\"colorbar\":{\"outlinewidth\":0,\"ticks\":\"\"}},\"type\":\"scattergeo\"}],\"scattergl\":[{\"marker\":{\"colorbar\":{\"outlinewidth\":0,\"ticks\":\"\"}},\"type\":\"scattergl\"}],\"scattermapbox\":[{\"marker\":{\"colorbar\":{\"outlinewidth\":0,\"ticks\":\"\"}},\"type\":\"scattermapbox\"}],\"scatterpolar\":[{\"marker\":{\"colorbar\":{\"outlinewidth\":0,\"ticks\":\"\"}},\"type\":\"scatterpolar\"}],\"scatterpolargl\":[{\"marker\":{\"colorbar\":{\"outlinewidth\":0,\"ticks\":\"\"}},\"type\":\"scatterpolargl\"}],\"scatterternary\":[{\"marker\":{\"colorbar\":{\"outlinewidth\":0,\"ticks\":\"\"}},\"type\":\"scatterternary\"}],\"surface\":[{\"colorbar\":{\"outlinewidth\":0,\"ticks\":\"\"},\"colorscale\":[[0.0,\"#0d0887\"],[0.1111111111111111,\"#46039f\"],[0.2222222222222222,\"#7201a8\"],[0.3333333333333333,\"#9c179e\"],[0.4444444444444444,\"#bd3786\"],[0.5555555555555556,\"#d8576b\"],[0.6666666666666666,\"#ed7953\"],[0.7777777777777778,\"#fb9f3a\"],[0.8888888888888888,\"#fdca26\"],[1.0,\"#f0f921\"]],\"type\":\"surface\"}],\"table\":[{\"cells\":{\"fill\":{\"color\":\"#EBF0F8\"},\"line\":{\"color\":\"white\"}},\"header\":{\"fill\":{\"color\":\"#C8D4E3\"},\"line\":{\"color\":\"white\"}},\"type\":\"table\"}]},\"layout\":{\"annotationdefaults\":{\"arrowcolor\":\"#2a3f5f\",\"arrowhead\":0,\"arrowwidth\":1},\"autotypenumbers\":\"strict\",\"coloraxis\":{\"colorbar\":{\"outlinewidth\":0,\"ticks\":\"\"}},\"colorscale\":{\"diverging\":[[0,\"#8e0152\"],[0.1,\"#c51b7d\"],[0.2,\"#de77ae\"],[0.3,\"#f1b6da\"],[0.4,\"#fde0ef\"],[0.5,\"#f7f7f7\"],[0.6,\"#e6f5d0\"],[0.7,\"#b8e186\"],[0.8,\"#7fbc41\"],[0.9,\"#4d9221\"],[1,\"#276419\"]],\"sequential\":[[0.0,\"#0d0887\"],[0.1111111111111111,\"#46039f\"],[0.2222222222222222,\"#7201a8\"],[0.3333333333333333,\"#9c179e\"],[0.4444444444444444,\"#bd3786\"],[0.5555555555555556,\"#d8576b\"],[0.6666666666666666,\"#ed7953\"],[0.7777777777777778,\"#fb9f3a\"],[0.8888888888888888,\"#fdca26\"],[1.0,\"#f0f921\"]],\"sequentialminus\":[[0.0,\"#0d0887\"],[0.1111111111111111,\"#46039f\"],[0.2222222222222222,\"#7201a8\"],[0.3333333333333333,\"#9c179e\"],[0.4444444444444444,\"#bd3786\"],[0.5555555555555556,\"#d8576b\"],[0.6666666666666666,\"#ed7953\"],[0.7777777777777778,\"#fb9f3a\"],[0.8888888888888888,\"#fdca26\"],[1.0,\"#f0f921\"]]},\"colorway\":[\"#636efa\",\"#EF553B\",\"#00cc96\",\"#ab63fa\",\"#FFA15A\",\"#19d3f3\",\"#FF6692\",\"#B6E880\",\"#FF97FF\",\"#FECB52\"],\"font\":{\"color\":\"#2a3f5f\"},\"geo\":{\"bgcolor\":\"white\",\"lakecolor\":\"white\",\"landcolor\":\"#E5ECF6\",\"showlakes\":true,\"showland\":true,\"subunitcolor\":\"white\"},\"hoverlabel\":{\"align\":\"left\"},\"hovermode\":\"closest\",\"mapbox\":{\"style\":\"light\"},\"paper_bgcolor\":\"white\",\"plot_bgcolor\":\"#E5ECF6\",\"polar\":{\"angularaxis\":{\"gridcolor\":\"white\",\"linecolor\":\"white\",\"ticks\":\"\"},\"bgcolor\":\"#E5ECF6\",\"radialaxis\":{\"gridcolor\":\"white\",\"linecolor\":\"white\",\"ticks\":\"\"}},\"scene\":{\"xaxis\":{\"backgroundcolor\":\"#E5ECF6\",\"gridcolor\":\"white\",\"gridwidth\":2,\"linecolor\":\"white\",\"showbackground\":true,\"ticks\":\"\",\"zerolinecolor\":\"white\"},\"yaxis\":{\"backgroundcolor\":\"#E5ECF6\",\"gridcolor\":\"white\",\"gridwidth\":2,\"linecolor\":\"white\",\"showbackground\":true,\"ticks\":\"\",\"zerolinecolor\":\"white\"},\"zaxis\":{\"backgroundcolor\":\"#E5ECF6\",\"gridcolor\":\"white\",\"gridwidth\":2,\"linecolor\":\"white\",\"showbackground\":true,\"ticks\":\"\",\"zerolinecolor\":\"white\"}},\"shapedefaults\":{\"line\":{\"color\":\"#2a3f5f\"}},\"ternary\":{\"aaxis\":{\"gridcolor\":\"white\",\"linecolor\":\"white\",\"ticks\":\"\"},\"baxis\":{\"gridcolor\":\"white\",\"linecolor\":\"white\",\"ticks\":\"\"},\"bgcolor\":\"#E5ECF6\",\"caxis\":{\"gridcolor\":\"white\",\"linecolor\":\"white\",\"ticks\":\"\"}},\"title\":{\"x\":0.05},\"xaxis\":{\"automargin\":true,\"gridcolor\":\"white\",\"linecolor\":\"white\",\"ticks\":\"\",\"title\":{\"standoff\":15},\"zerolinecolor\":\"white\",\"zerolinewidth\":2},\"yaxis\":{\"automargin\":true,\"gridcolor\":\"white\",\"linecolor\":\"white\",\"ticks\":\"\",\"title\":{\"standoff\":15},\"zerolinecolor\":\"white\",\"zerolinewidth\":2}}},\"legend\":{\"tracegroupgap\":0},\"margin\":{\"t\":60}},                        {\"responsive\": true}                    ).then(function(){\n",
       "                            \n",
       "var gd = document.getElementById('b7c53fd2-d0fa-42b1-9008-54deec5e26c4');\n",
       "var x = new MutationObserver(function (mutations, observer) {{\n",
       "        var display = window.getComputedStyle(gd).display;\n",
       "        if (!display || display === 'none') {{\n",
       "            console.log([gd, 'removed!']);\n",
       "            Plotly.purge(gd);\n",
       "            observer.disconnect();\n",
       "        }}\n",
       "}});\n",
       "\n",
       "// Listen for the removal of the full notebook cells\n",
       "var notebookContainer = gd.closest('#notebook-container');\n",
       "if (notebookContainer) {{\n",
       "    x.observe(notebookContainer, {childList: true});\n",
       "}}\n",
       "\n",
       "// Listen for the clearing of the current output cell\n",
       "var outputEl = gd.closest('.output');\n",
       "if (outputEl) {{\n",
       "    x.observe(outputEl, {childList: true});\n",
       "}}\n",
       "\n",
       "                        })                };                });            </script>        </div>"
      ]
     },
     "metadata": {},
     "output_type": "display_data"
    }
   ],
   "source": [
    "#Construindo o grafico de pizza \n",
    "# Os coordenadores criam mais cotacoes que os proprios GV (Vendedores)\n",
    "\n",
    "px.pie(qty_quote_created, names=qty_quote_created.index, values=qty_quote_created.values)\n"
   ]
  },
  {
   "cell_type": "code",
   "execution_count": 10,
   "id": "90264271",
   "metadata": {},
   "outputs": [
    {
     "data": {
      "text/html": [
       "<div>\n",
       "<style scoped>\n",
       "    .dataframe tbody tr th:only-of-type {\n",
       "        vertical-align: middle;\n",
       "    }\n",
       "\n",
       "    .dataframe tbody tr th {\n",
       "        vertical-align: top;\n",
       "    }\n",
       "\n",
       "    .dataframe thead th {\n",
       "        text-align: right;\n",
       "    }\n",
       "</style>\n",
       "<table border=\"1\" class=\"dataframe\">\n",
       "  <thead>\n",
       "    <tr style=\"text-align: right;\">\n",
       "      <th></th>\n",
       "      <th>count</th>\n",
       "      <th>mean</th>\n",
       "      <th>std</th>\n",
       "      <th>min</th>\n",
       "      <th>max</th>\n",
       "      <th>median</th>\n",
       "    </tr>\n",
       "    <tr>\n",
       "      <th>Username</th>\n",
       "      <th></th>\n",
       "      <th></th>\n",
       "      <th></th>\n",
       "      <th></th>\n",
       "      <th></th>\n",
       "      <th></th>\n",
       "    </tr>\n",
       "  </thead>\n",
       "  <tbody>\n",
       "    <tr>\n",
       "      <th>Coord.</th>\n",
       "      <td>73</td>\n",
       "      <td>34350.0</td>\n",
       "      <td>37631.0</td>\n",
       "      <td>1092.0</td>\n",
       "      <td>205892.0</td>\n",
       "      <td>19902.0</td>\n",
       "    </tr>\n",
       "    <tr>\n",
       "      <th>GV</th>\n",
       "      <td>57</td>\n",
       "      <td>33779.0</td>\n",
       "      <td>45695.0</td>\n",
       "      <td>534.0</td>\n",
       "      <td>303461.0</td>\n",
       "      <td>21784.0</td>\n",
       "    </tr>\n",
       "  </tbody>\n",
       "</table>\n",
       "</div>"
      ],
      "text/plain": [
       "          count     mean      std     min       max   median\n",
       "Username                                                    \n",
       "Coord.       73  34350.0  37631.0  1092.0  205892.0  19902.0\n",
       "GV           57  33779.0  45695.0   534.0  303461.0  21784.0"
      ]
     },
     "execution_count": 10,
     "metadata": {},
     "output_type": "execute_result"
    }
   ],
   "source": [
    "# Estatistica descritiva da variavel New_Total estratificada por username / CAN$ - mes fev 2022 \n",
    "  \n",
    "# quotes_df.New_Total.describe()/ quotes_df['New_Total'].describe()\n",
    "round(nova_tabela.groupby(\"Username\").New_Total.agg([\"count\", \"mean\", \"std\", \"min\", \"max\", \"median\"]))\n"
   ]
  },
  {
   "cell_type": "code",
   "execution_count": 43,
   "id": "3a78831b",
   "metadata": {},
   "outputs": [
    {
     "data": {
      "application/vnd.plotly.v1+json": {
       "config": {
        "plotlyServerURL": "https://plot.ly"
       },
       "data": [
        {
         "alignmentgroup": "True",
         "hovertemplate": "New_Total=%{x}<br>Username=%{y}<extra></extra>",
         "legendgroup": "",
         "marker": {
          "color": "#636efa"
         },
         "name": "",
         "notched": false,
         "offsetgroup": "",
         "orientation": "h",
         "showlegend": false,
         "type": "box",
         "x": [
          33294.570233399994,
          114363.46,
          7194.005437499999,
          8264.1305502,
          20086.403526,
          36634.3889625,
          23165.2469223,
          8576.2037227,
          15011.9654265,
          58610.8,
          91598.4,
          51342.91,
          75528.075546,
          21275.521482599997,
          205891.71,
          98317.437876,
          116835.23,
          10586.7,
          4407.4812222,
          72686.89,
          28406.5586721,
          11175.7106412,
          14857.763356799998,
          8109.8973080999995,
          1108.85,
          7286.1822243,
          18412.313163299998,
          16412.9232204,
          11344.0961529,
          6615.9924757,
          19902.13,
          124604.6,
          35689.6,
          9744.2506539,
          10574.847044999999,
          16155.22,
          6062.6577312,
          8850.8808423,
          21074.591985299998,
          12940.208757,
          11869.421230799999,
          47382.928620299994,
          6097.6490601,
          1098.2192381999998,
          13265.5395096,
          2395.0066644,
          41816.6601867,
          16642.5001533,
          8724.9365532,
          14779.902494699998,
          22963.226390999997,
          17741.8649772,
          21818.0459322,
          80275.16447999999,
          80275.16447999999,
          28414.811564999996,
          26506.2657888,
          162657.8420452,
          1215.9184275,
          65585.24111789999,
          11214.613796399999,
          64597.7540376,
          19620.8125596,
          35259.351019199996,
          37612.119081599994,
          42305.233004999995,
          4217.1972139,
          82967.75066789999,
          16013.0826387,
          4380.9565647,
          77822.0212896,
          8098.3401408,
          11672.43,
          78871.85316989999,
          303460.62,
          534.07,
          30839.38,
          1993.2489801,
          21975.47,
          10621.293921,
          27118.429379999998,
          8172.75,
          21783.851861,
          14243.952624900001,
          58140.375791399994,
          22549.85,
          43223.71,
          22625.317574999997,
          79157.87,
          1091.9761776,
          11496.453294800001,
          19174.478343299998,
          20751.8719212,
          8482.82,
          10469.97,
          20132.4,
          10233.1274031,
          32848.1814654,
          29598.630213599998,
          31798.09,
          8849.8755324,
          31336.7780368,
          14192.823487000001,
          11876.9727447,
          7104.6029943,
          18590.36,
          38845.43,
          57921.01,
          3735.680535,
          25480.371464800002,
          31970.9433708,
          10621.293921,
          2428.31,
          23009.096577599998,
          11867.34,
          21345.57,
          48917.709527399995,
          61482.12,
          13532.936356799999,
          11567.92,
          6297.954799499999,
          57624.12,
          43978.3804026,
          70343.19363329999,
          67384.3,
          33845.17,
          72590.99,
          19297.47,
          103778.3825631,
          11458.97424
         ],
         "x0": " ",
         "xaxis": "x",
         "y": [
          "Coord.",
          "Coord.",
          "Coord.",
          "Coord.",
          "Coord.",
          "GV",
          "GV",
          "GV",
          "GV",
          "GV",
          "GV",
          "GV",
          "Coord.",
          "Coord.",
          "Coord.",
          "Coord.",
          "Coord.",
          "Coord.",
          "Coord.",
          "GV",
          "GV",
          "Coord.",
          "Coord.",
          "Coord.",
          "Coord.",
          "Coord.",
          "Coord.",
          "Coord.",
          "Coord.",
          "GV",
          "Coord.",
          "GV",
          "GV",
          "Coord.",
          "Coord.",
          "Coord.",
          "GV",
          "Coord.",
          "GV",
          "GV",
          "GV",
          "GV",
          "GV",
          "GV",
          "Coord.",
          "Coord.",
          "GV",
          "Coord.",
          "Coord.",
          "Coord.",
          "Coord.",
          "Coord.",
          "GV",
          "GV",
          "GV",
          "GV",
          "GV",
          "Coord.",
          "Coord.",
          "Coord.",
          "Coord.",
          "Coord.",
          "Coord.",
          "Coord.",
          "Coord.",
          "GV",
          "GV",
          "Coord.",
          "GV",
          "GV",
          "Coord.",
          "Coord.",
          "GV",
          "Coord.",
          "GV",
          "GV",
          "GV",
          "GV",
          "Coord.",
          "GV",
          "GV",
          "GV",
          "GV",
          "GV",
          "Coord.",
          "Coord.",
          "Coord.",
          "Coord.",
          "Coord.",
          "Coord.",
          "GV",
          "Coord.",
          "Coord.",
          "GV",
          "Coord.",
          "Coord.",
          "Coord.",
          "Coord.",
          "GV",
          "GV",
          "GV",
          "GV",
          "Coord.",
          "Coord.",
          "Coord.",
          "Coord.",
          "Coord.",
          "GV",
          "GV",
          "Coord.",
          "Coord.",
          "Coord.",
          "GV",
          "GV",
          "GV",
          "Coord.",
          "Coord.",
          "Coord.",
          "Coord.",
          "GV",
          "GV",
          "Coord.",
          "GV",
          "Coord.",
          "Coord.",
          "Coord.",
          "GV",
          "GV",
          "GV",
          "GV"
         ],
         "y0": " ",
         "yaxis": "y"
        }
       ],
       "layout": {
        "boxmode": "group",
        "legend": {
         "tracegroupgap": 0
        },
        "template": {
         "data": {
          "bar": [
           {
            "error_x": {
             "color": "#2a3f5f"
            },
            "error_y": {
             "color": "#2a3f5f"
            },
            "marker": {
             "line": {
              "color": "#E5ECF6",
              "width": 0.5
             },
             "pattern": {
              "fillmode": "overlay",
              "size": 10,
              "solidity": 0.2
             }
            },
            "type": "bar"
           }
          ],
          "barpolar": [
           {
            "marker": {
             "line": {
              "color": "#E5ECF6",
              "width": 0.5
             },
             "pattern": {
              "fillmode": "overlay",
              "size": 10,
              "solidity": 0.2
             }
            },
            "type": "barpolar"
           }
          ],
          "carpet": [
           {
            "aaxis": {
             "endlinecolor": "#2a3f5f",
             "gridcolor": "white",
             "linecolor": "white",
             "minorgridcolor": "white",
             "startlinecolor": "#2a3f5f"
            },
            "baxis": {
             "endlinecolor": "#2a3f5f",
             "gridcolor": "white",
             "linecolor": "white",
             "minorgridcolor": "white",
             "startlinecolor": "#2a3f5f"
            },
            "type": "carpet"
           }
          ],
          "choropleth": [
           {
            "colorbar": {
             "outlinewidth": 0,
             "ticks": ""
            },
            "type": "choropleth"
           }
          ],
          "contour": [
           {
            "colorbar": {
             "outlinewidth": 0,
             "ticks": ""
            },
            "colorscale": [
             [
              0,
              "#0d0887"
             ],
             [
              0.1111111111111111,
              "#46039f"
             ],
             [
              0.2222222222222222,
              "#7201a8"
             ],
             [
              0.3333333333333333,
              "#9c179e"
             ],
             [
              0.4444444444444444,
              "#bd3786"
             ],
             [
              0.5555555555555556,
              "#d8576b"
             ],
             [
              0.6666666666666666,
              "#ed7953"
             ],
             [
              0.7777777777777778,
              "#fb9f3a"
             ],
             [
              0.8888888888888888,
              "#fdca26"
             ],
             [
              1,
              "#f0f921"
             ]
            ],
            "type": "contour"
           }
          ],
          "contourcarpet": [
           {
            "colorbar": {
             "outlinewidth": 0,
             "ticks": ""
            },
            "type": "contourcarpet"
           }
          ],
          "heatmap": [
           {
            "colorbar": {
             "outlinewidth": 0,
             "ticks": ""
            },
            "colorscale": [
             [
              0,
              "#0d0887"
             ],
             [
              0.1111111111111111,
              "#46039f"
             ],
             [
              0.2222222222222222,
              "#7201a8"
             ],
             [
              0.3333333333333333,
              "#9c179e"
             ],
             [
              0.4444444444444444,
              "#bd3786"
             ],
             [
              0.5555555555555556,
              "#d8576b"
             ],
             [
              0.6666666666666666,
              "#ed7953"
             ],
             [
              0.7777777777777778,
              "#fb9f3a"
             ],
             [
              0.8888888888888888,
              "#fdca26"
             ],
             [
              1,
              "#f0f921"
             ]
            ],
            "type": "heatmap"
           }
          ],
          "heatmapgl": [
           {
            "colorbar": {
             "outlinewidth": 0,
             "ticks": ""
            },
            "colorscale": [
             [
              0,
              "#0d0887"
             ],
             [
              0.1111111111111111,
              "#46039f"
             ],
             [
              0.2222222222222222,
              "#7201a8"
             ],
             [
              0.3333333333333333,
              "#9c179e"
             ],
             [
              0.4444444444444444,
              "#bd3786"
             ],
             [
              0.5555555555555556,
              "#d8576b"
             ],
             [
              0.6666666666666666,
              "#ed7953"
             ],
             [
              0.7777777777777778,
              "#fb9f3a"
             ],
             [
              0.8888888888888888,
              "#fdca26"
             ],
             [
              1,
              "#f0f921"
             ]
            ],
            "type": "heatmapgl"
           }
          ],
          "histogram": [
           {
            "marker": {
             "pattern": {
              "fillmode": "overlay",
              "size": 10,
              "solidity": 0.2
             }
            },
            "type": "histogram"
           }
          ],
          "histogram2d": [
           {
            "colorbar": {
             "outlinewidth": 0,
             "ticks": ""
            },
            "colorscale": [
             [
              0,
              "#0d0887"
             ],
             [
              0.1111111111111111,
              "#46039f"
             ],
             [
              0.2222222222222222,
              "#7201a8"
             ],
             [
              0.3333333333333333,
              "#9c179e"
             ],
             [
              0.4444444444444444,
              "#bd3786"
             ],
             [
              0.5555555555555556,
              "#d8576b"
             ],
             [
              0.6666666666666666,
              "#ed7953"
             ],
             [
              0.7777777777777778,
              "#fb9f3a"
             ],
             [
              0.8888888888888888,
              "#fdca26"
             ],
             [
              1,
              "#f0f921"
             ]
            ],
            "type": "histogram2d"
           }
          ],
          "histogram2dcontour": [
           {
            "colorbar": {
             "outlinewidth": 0,
             "ticks": ""
            },
            "colorscale": [
             [
              0,
              "#0d0887"
             ],
             [
              0.1111111111111111,
              "#46039f"
             ],
             [
              0.2222222222222222,
              "#7201a8"
             ],
             [
              0.3333333333333333,
              "#9c179e"
             ],
             [
              0.4444444444444444,
              "#bd3786"
             ],
             [
              0.5555555555555556,
              "#d8576b"
             ],
             [
              0.6666666666666666,
              "#ed7953"
             ],
             [
              0.7777777777777778,
              "#fb9f3a"
             ],
             [
              0.8888888888888888,
              "#fdca26"
             ],
             [
              1,
              "#f0f921"
             ]
            ],
            "type": "histogram2dcontour"
           }
          ],
          "mesh3d": [
           {
            "colorbar": {
             "outlinewidth": 0,
             "ticks": ""
            },
            "type": "mesh3d"
           }
          ],
          "parcoords": [
           {
            "line": {
             "colorbar": {
              "outlinewidth": 0,
              "ticks": ""
             }
            },
            "type": "parcoords"
           }
          ],
          "pie": [
           {
            "automargin": true,
            "type": "pie"
           }
          ],
          "scatter": [
           {
            "marker": {
             "colorbar": {
              "outlinewidth": 0,
              "ticks": ""
             }
            },
            "type": "scatter"
           }
          ],
          "scatter3d": [
           {
            "line": {
             "colorbar": {
              "outlinewidth": 0,
              "ticks": ""
             }
            },
            "marker": {
             "colorbar": {
              "outlinewidth": 0,
              "ticks": ""
             }
            },
            "type": "scatter3d"
           }
          ],
          "scattercarpet": [
           {
            "marker": {
             "colorbar": {
              "outlinewidth": 0,
              "ticks": ""
             }
            },
            "type": "scattercarpet"
           }
          ],
          "scattergeo": [
           {
            "marker": {
             "colorbar": {
              "outlinewidth": 0,
              "ticks": ""
             }
            },
            "type": "scattergeo"
           }
          ],
          "scattergl": [
           {
            "marker": {
             "colorbar": {
              "outlinewidth": 0,
              "ticks": ""
             }
            },
            "type": "scattergl"
           }
          ],
          "scattermapbox": [
           {
            "marker": {
             "colorbar": {
              "outlinewidth": 0,
              "ticks": ""
             }
            },
            "type": "scattermapbox"
           }
          ],
          "scatterpolar": [
           {
            "marker": {
             "colorbar": {
              "outlinewidth": 0,
              "ticks": ""
             }
            },
            "type": "scatterpolar"
           }
          ],
          "scatterpolargl": [
           {
            "marker": {
             "colorbar": {
              "outlinewidth": 0,
              "ticks": ""
             }
            },
            "type": "scatterpolargl"
           }
          ],
          "scatterternary": [
           {
            "marker": {
             "colorbar": {
              "outlinewidth": 0,
              "ticks": ""
             }
            },
            "type": "scatterternary"
           }
          ],
          "surface": [
           {
            "colorbar": {
             "outlinewidth": 0,
             "ticks": ""
            },
            "colorscale": [
             [
              0,
              "#0d0887"
             ],
             [
              0.1111111111111111,
              "#46039f"
             ],
             [
              0.2222222222222222,
              "#7201a8"
             ],
             [
              0.3333333333333333,
              "#9c179e"
             ],
             [
              0.4444444444444444,
              "#bd3786"
             ],
             [
              0.5555555555555556,
              "#d8576b"
             ],
             [
              0.6666666666666666,
              "#ed7953"
             ],
             [
              0.7777777777777778,
              "#fb9f3a"
             ],
             [
              0.8888888888888888,
              "#fdca26"
             ],
             [
              1,
              "#f0f921"
             ]
            ],
            "type": "surface"
           }
          ],
          "table": [
           {
            "cells": {
             "fill": {
              "color": "#EBF0F8"
             },
             "line": {
              "color": "white"
             }
            },
            "header": {
             "fill": {
              "color": "#C8D4E3"
             },
             "line": {
              "color": "white"
             }
            },
            "type": "table"
           }
          ]
         },
         "layout": {
          "annotationdefaults": {
           "arrowcolor": "#2a3f5f",
           "arrowhead": 0,
           "arrowwidth": 1
          },
          "autotypenumbers": "strict",
          "coloraxis": {
           "colorbar": {
            "outlinewidth": 0,
            "ticks": ""
           }
          },
          "colorscale": {
           "diverging": [
            [
             0,
             "#8e0152"
            ],
            [
             0.1,
             "#c51b7d"
            ],
            [
             0.2,
             "#de77ae"
            ],
            [
             0.3,
             "#f1b6da"
            ],
            [
             0.4,
             "#fde0ef"
            ],
            [
             0.5,
             "#f7f7f7"
            ],
            [
             0.6,
             "#e6f5d0"
            ],
            [
             0.7,
             "#b8e186"
            ],
            [
             0.8,
             "#7fbc41"
            ],
            [
             0.9,
             "#4d9221"
            ],
            [
             1,
             "#276419"
            ]
           ],
           "sequential": [
            [
             0,
             "#0d0887"
            ],
            [
             0.1111111111111111,
             "#46039f"
            ],
            [
             0.2222222222222222,
             "#7201a8"
            ],
            [
             0.3333333333333333,
             "#9c179e"
            ],
            [
             0.4444444444444444,
             "#bd3786"
            ],
            [
             0.5555555555555556,
             "#d8576b"
            ],
            [
             0.6666666666666666,
             "#ed7953"
            ],
            [
             0.7777777777777778,
             "#fb9f3a"
            ],
            [
             0.8888888888888888,
             "#fdca26"
            ],
            [
             1,
             "#f0f921"
            ]
           ],
           "sequentialminus": [
            [
             0,
             "#0d0887"
            ],
            [
             0.1111111111111111,
             "#46039f"
            ],
            [
             0.2222222222222222,
             "#7201a8"
            ],
            [
             0.3333333333333333,
             "#9c179e"
            ],
            [
             0.4444444444444444,
             "#bd3786"
            ],
            [
             0.5555555555555556,
             "#d8576b"
            ],
            [
             0.6666666666666666,
             "#ed7953"
            ],
            [
             0.7777777777777778,
             "#fb9f3a"
            ],
            [
             0.8888888888888888,
             "#fdca26"
            ],
            [
             1,
             "#f0f921"
            ]
           ]
          },
          "colorway": [
           "#636efa",
           "#EF553B",
           "#00cc96",
           "#ab63fa",
           "#FFA15A",
           "#19d3f3",
           "#FF6692",
           "#B6E880",
           "#FF97FF",
           "#FECB52"
          ],
          "font": {
           "color": "#2a3f5f"
          },
          "geo": {
           "bgcolor": "white",
           "lakecolor": "white",
           "landcolor": "#E5ECF6",
           "showlakes": true,
           "showland": true,
           "subunitcolor": "white"
          },
          "hoverlabel": {
           "align": "left"
          },
          "hovermode": "closest",
          "mapbox": {
           "style": "light"
          },
          "paper_bgcolor": "white",
          "plot_bgcolor": "#E5ECF6",
          "polar": {
           "angularaxis": {
            "gridcolor": "white",
            "linecolor": "white",
            "ticks": ""
           },
           "bgcolor": "#E5ECF6",
           "radialaxis": {
            "gridcolor": "white",
            "linecolor": "white",
            "ticks": ""
           }
          },
          "scene": {
           "xaxis": {
            "backgroundcolor": "#E5ECF6",
            "gridcolor": "white",
            "gridwidth": 2,
            "linecolor": "white",
            "showbackground": true,
            "ticks": "",
            "zerolinecolor": "white"
           },
           "yaxis": {
            "backgroundcolor": "#E5ECF6",
            "gridcolor": "white",
            "gridwidth": 2,
            "linecolor": "white",
            "showbackground": true,
            "ticks": "",
            "zerolinecolor": "white"
           },
           "zaxis": {
            "backgroundcolor": "#E5ECF6",
            "gridcolor": "white",
            "gridwidth": 2,
            "linecolor": "white",
            "showbackground": true,
            "ticks": "",
            "zerolinecolor": "white"
           }
          },
          "shapedefaults": {
           "line": {
            "color": "#2a3f5f"
           }
          },
          "ternary": {
           "aaxis": {
            "gridcolor": "white",
            "linecolor": "white",
            "ticks": ""
           },
           "baxis": {
            "gridcolor": "white",
            "linecolor": "white",
            "ticks": ""
           },
           "bgcolor": "#E5ECF6",
           "caxis": {
            "gridcolor": "white",
            "linecolor": "white",
            "ticks": ""
           }
          },
          "title": {
           "x": 0.05
          },
          "xaxis": {
           "automargin": true,
           "gridcolor": "white",
           "linecolor": "white",
           "ticks": "",
           "title": {
            "standoff": 15
           },
           "zerolinecolor": "white",
           "zerolinewidth": 2
          },
          "yaxis": {
           "automargin": true,
           "gridcolor": "white",
           "linecolor": "white",
           "ticks": "",
           "title": {
            "standoff": 15
           },
           "zerolinecolor": "white",
           "zerolinewidth": 2
          }
         }
        },
        "title": {
         "text": "Box-plot p/ cotacoes - periodo: fev. 2022 / estratificadas por grupo de usuarios"
        },
        "xaxis": {
         "anchor": "y",
         "domain": [
          0,
          1
         ],
         "title": {
          "text": "New_Total"
         }
        },
        "yaxis": {
         "anchor": "x",
         "domain": [
          0,
          1
         ],
         "title": {
          "text": "Username"
         }
        }
       }
      },
      "text/html": [
       "<div>                            <div id=\"5fa74baa-f284-498d-99cd-6e112592359c\" class=\"plotly-graph-div\" style=\"height:525px; width:100%;\"></div>            <script type=\"text/javascript\">                require([\"plotly\"], function(Plotly) {                    window.PLOTLYENV=window.PLOTLYENV || {};                                    if (document.getElementById(\"5fa74baa-f284-498d-99cd-6e112592359c\")) {                    Plotly.newPlot(                        \"5fa74baa-f284-498d-99cd-6e112592359c\",                        [{\"alignmentgroup\":\"True\",\"hovertemplate\":\"New_Total=%{x}<br>Username=%{y}<extra></extra>\",\"legendgroup\":\"\",\"marker\":{\"color\":\"#636efa\"},\"name\":\"\",\"notched\":false,\"offsetgroup\":\"\",\"orientation\":\"h\",\"showlegend\":false,\"x\":[33294.570233399994,114363.46,7194.005437499999,8264.1305502,20086.403526,36634.3889625,23165.2469223,8576.2037227,15011.9654265,58610.8,91598.4,51342.91,75528.075546,21275.521482599997,205891.71,98317.437876,116835.23,10586.7,4407.4812222,72686.89,28406.5586721,11175.7106412,14857.763356799998,8109.8973080999995,1108.85,7286.1822243,18412.313163299998,16412.9232204,11344.0961529,6615.9924757,19902.13,124604.6,35689.6,9744.2506539,10574.847044999999,16155.22,6062.6577312,8850.8808423,21074.591985299998,12940.208757,11869.421230799999,47382.928620299994,6097.6490601,1098.2192381999998,13265.5395096,2395.0066644,41816.6601867,16642.5001533,8724.9365532,14779.902494699998,22963.226390999997,17741.8649772,21818.0459322,80275.16447999999,80275.16447999999,28414.811564999996,26506.2657888,162657.8420452,1215.9184275,65585.24111789999,11214.613796399999,64597.7540376,19620.8125596,35259.351019199996,37612.119081599994,42305.233004999995,4217.1972139,82967.75066789999,16013.0826387,4380.9565647,77822.0212896,8098.3401408,11672.43,78871.85316989999,303460.62,534.07,30839.38,1993.2489801,21975.47,10621.293921,27118.429379999998,8172.75,21783.851861,14243.952624900001,58140.375791399994,22549.85,43223.71,22625.317574999997,79157.87,1091.9761776,11496.453294800001,19174.478343299998,20751.8719212,8482.82,10469.97,20132.4,10233.1274031,32848.1814654,29598.630213599998,31798.09,8849.8755324,31336.7780368,14192.823487000001,11876.9727447,7104.6029943,18590.36,38845.43,57921.01,3735.680535,25480.371464800002,31970.9433708,10621.293921,2428.31,23009.096577599998,11867.34,21345.57,48917.709527399995,61482.12,13532.936356799999,11567.92,6297.954799499999,57624.12,43978.3804026,70343.19363329999,67384.3,33845.17,72590.99,19297.47,103778.3825631,11458.97424],\"x0\":\" \",\"xaxis\":\"x\",\"y\":[\"Coord.\",\"Coord.\",\"Coord.\",\"Coord.\",\"Coord.\",\"GV\",\"GV\",\"GV\",\"GV\",\"GV\",\"GV\",\"GV\",\"Coord.\",\"Coord.\",\"Coord.\",\"Coord.\",\"Coord.\",\"Coord.\",\"Coord.\",\"GV\",\"GV\",\"Coord.\",\"Coord.\",\"Coord.\",\"Coord.\",\"Coord.\",\"Coord.\",\"Coord.\",\"Coord.\",\"GV\",\"Coord.\",\"GV\",\"GV\",\"Coord.\",\"Coord.\",\"Coord.\",\"GV\",\"Coord.\",\"GV\",\"GV\",\"GV\",\"GV\",\"GV\",\"GV\",\"Coord.\",\"Coord.\",\"GV\",\"Coord.\",\"Coord.\",\"Coord.\",\"Coord.\",\"Coord.\",\"GV\",\"GV\",\"GV\",\"GV\",\"GV\",\"Coord.\",\"Coord.\",\"Coord.\",\"Coord.\",\"Coord.\",\"Coord.\",\"Coord.\",\"Coord.\",\"GV\",\"GV\",\"Coord.\",\"GV\",\"GV\",\"Coord.\",\"Coord.\",\"GV\",\"Coord.\",\"GV\",\"GV\",\"GV\",\"GV\",\"Coord.\",\"GV\",\"GV\",\"GV\",\"GV\",\"GV\",\"Coord.\",\"Coord.\",\"Coord.\",\"Coord.\",\"Coord.\",\"Coord.\",\"GV\",\"Coord.\",\"Coord.\",\"GV\",\"Coord.\",\"Coord.\",\"Coord.\",\"Coord.\",\"GV\",\"GV\",\"GV\",\"GV\",\"Coord.\",\"Coord.\",\"Coord.\",\"Coord.\",\"Coord.\",\"GV\",\"GV\",\"Coord.\",\"Coord.\",\"Coord.\",\"GV\",\"GV\",\"GV\",\"Coord.\",\"Coord.\",\"Coord.\",\"Coord.\",\"GV\",\"GV\",\"Coord.\",\"GV\",\"Coord.\",\"Coord.\",\"Coord.\",\"GV\",\"GV\",\"GV\",\"GV\"],\"y0\":\" \",\"yaxis\":\"y\",\"type\":\"box\"}],                        {\"template\":{\"data\":{\"bar\":[{\"error_x\":{\"color\":\"#2a3f5f\"},\"error_y\":{\"color\":\"#2a3f5f\"},\"marker\":{\"line\":{\"color\":\"#E5ECF6\",\"width\":0.5},\"pattern\":{\"fillmode\":\"overlay\",\"size\":10,\"solidity\":0.2}},\"type\":\"bar\"}],\"barpolar\":[{\"marker\":{\"line\":{\"color\":\"#E5ECF6\",\"width\":0.5},\"pattern\":{\"fillmode\":\"overlay\",\"size\":10,\"solidity\":0.2}},\"type\":\"barpolar\"}],\"carpet\":[{\"aaxis\":{\"endlinecolor\":\"#2a3f5f\",\"gridcolor\":\"white\",\"linecolor\":\"white\",\"minorgridcolor\":\"white\",\"startlinecolor\":\"#2a3f5f\"},\"baxis\":{\"endlinecolor\":\"#2a3f5f\",\"gridcolor\":\"white\",\"linecolor\":\"white\",\"minorgridcolor\":\"white\",\"startlinecolor\":\"#2a3f5f\"},\"type\":\"carpet\"}],\"choropleth\":[{\"colorbar\":{\"outlinewidth\":0,\"ticks\":\"\"},\"type\":\"choropleth\"}],\"contour\":[{\"colorbar\":{\"outlinewidth\":0,\"ticks\":\"\"},\"colorscale\":[[0.0,\"#0d0887\"],[0.1111111111111111,\"#46039f\"],[0.2222222222222222,\"#7201a8\"],[0.3333333333333333,\"#9c179e\"],[0.4444444444444444,\"#bd3786\"],[0.5555555555555556,\"#d8576b\"],[0.6666666666666666,\"#ed7953\"],[0.7777777777777778,\"#fb9f3a\"],[0.8888888888888888,\"#fdca26\"],[1.0,\"#f0f921\"]],\"type\":\"contour\"}],\"contourcarpet\":[{\"colorbar\":{\"outlinewidth\":0,\"ticks\":\"\"},\"type\":\"contourcarpet\"}],\"heatmap\":[{\"colorbar\":{\"outlinewidth\":0,\"ticks\":\"\"},\"colorscale\":[[0.0,\"#0d0887\"],[0.1111111111111111,\"#46039f\"],[0.2222222222222222,\"#7201a8\"],[0.3333333333333333,\"#9c179e\"],[0.4444444444444444,\"#bd3786\"],[0.5555555555555556,\"#d8576b\"],[0.6666666666666666,\"#ed7953\"],[0.7777777777777778,\"#fb9f3a\"],[0.8888888888888888,\"#fdca26\"],[1.0,\"#f0f921\"]],\"type\":\"heatmap\"}],\"heatmapgl\":[{\"colorbar\":{\"outlinewidth\":0,\"ticks\":\"\"},\"colorscale\":[[0.0,\"#0d0887\"],[0.1111111111111111,\"#46039f\"],[0.2222222222222222,\"#7201a8\"],[0.3333333333333333,\"#9c179e\"],[0.4444444444444444,\"#bd3786\"],[0.5555555555555556,\"#d8576b\"],[0.6666666666666666,\"#ed7953\"],[0.7777777777777778,\"#fb9f3a\"],[0.8888888888888888,\"#fdca26\"],[1.0,\"#f0f921\"]],\"type\":\"heatmapgl\"}],\"histogram\":[{\"marker\":{\"pattern\":{\"fillmode\":\"overlay\",\"size\":10,\"solidity\":0.2}},\"type\":\"histogram\"}],\"histogram2d\":[{\"colorbar\":{\"outlinewidth\":0,\"ticks\":\"\"},\"colorscale\":[[0.0,\"#0d0887\"],[0.1111111111111111,\"#46039f\"],[0.2222222222222222,\"#7201a8\"],[0.3333333333333333,\"#9c179e\"],[0.4444444444444444,\"#bd3786\"],[0.5555555555555556,\"#d8576b\"],[0.6666666666666666,\"#ed7953\"],[0.7777777777777778,\"#fb9f3a\"],[0.8888888888888888,\"#fdca26\"],[1.0,\"#f0f921\"]],\"type\":\"histogram2d\"}],\"histogram2dcontour\":[{\"colorbar\":{\"outlinewidth\":0,\"ticks\":\"\"},\"colorscale\":[[0.0,\"#0d0887\"],[0.1111111111111111,\"#46039f\"],[0.2222222222222222,\"#7201a8\"],[0.3333333333333333,\"#9c179e\"],[0.4444444444444444,\"#bd3786\"],[0.5555555555555556,\"#d8576b\"],[0.6666666666666666,\"#ed7953\"],[0.7777777777777778,\"#fb9f3a\"],[0.8888888888888888,\"#fdca26\"],[1.0,\"#f0f921\"]],\"type\":\"histogram2dcontour\"}],\"mesh3d\":[{\"colorbar\":{\"outlinewidth\":0,\"ticks\":\"\"},\"type\":\"mesh3d\"}],\"parcoords\":[{\"line\":{\"colorbar\":{\"outlinewidth\":0,\"ticks\":\"\"}},\"type\":\"parcoords\"}],\"pie\":[{\"automargin\":true,\"type\":\"pie\"}],\"scatter\":[{\"marker\":{\"colorbar\":{\"outlinewidth\":0,\"ticks\":\"\"}},\"type\":\"scatter\"}],\"scatter3d\":[{\"line\":{\"colorbar\":{\"outlinewidth\":0,\"ticks\":\"\"}},\"marker\":{\"colorbar\":{\"outlinewidth\":0,\"ticks\":\"\"}},\"type\":\"scatter3d\"}],\"scattercarpet\":[{\"marker\":{\"colorbar\":{\"outlinewidth\":0,\"ticks\":\"\"}},\"type\":\"scattercarpet\"}],\"scattergeo\":[{\"marker\":{\"colorbar\":{\"outlinewidth\":0,\"ticks\":\"\"}},\"type\":\"scattergeo\"}],\"scattergl\":[{\"marker\":{\"colorbar\":{\"outlinewidth\":0,\"ticks\":\"\"}},\"type\":\"scattergl\"}],\"scattermapbox\":[{\"marker\":{\"colorbar\":{\"outlinewidth\":0,\"ticks\":\"\"}},\"type\":\"scattermapbox\"}],\"scatterpolar\":[{\"marker\":{\"colorbar\":{\"outlinewidth\":0,\"ticks\":\"\"}},\"type\":\"scatterpolar\"}],\"scatterpolargl\":[{\"marker\":{\"colorbar\":{\"outlinewidth\":0,\"ticks\":\"\"}},\"type\":\"scatterpolargl\"}],\"scatterternary\":[{\"marker\":{\"colorbar\":{\"outlinewidth\":0,\"ticks\":\"\"}},\"type\":\"scatterternary\"}],\"surface\":[{\"colorbar\":{\"outlinewidth\":0,\"ticks\":\"\"},\"colorscale\":[[0.0,\"#0d0887\"],[0.1111111111111111,\"#46039f\"],[0.2222222222222222,\"#7201a8\"],[0.3333333333333333,\"#9c179e\"],[0.4444444444444444,\"#bd3786\"],[0.5555555555555556,\"#d8576b\"],[0.6666666666666666,\"#ed7953\"],[0.7777777777777778,\"#fb9f3a\"],[0.8888888888888888,\"#fdca26\"],[1.0,\"#f0f921\"]],\"type\":\"surface\"}],\"table\":[{\"cells\":{\"fill\":{\"color\":\"#EBF0F8\"},\"line\":{\"color\":\"white\"}},\"header\":{\"fill\":{\"color\":\"#C8D4E3\"},\"line\":{\"color\":\"white\"}},\"type\":\"table\"}]},\"layout\":{\"annotationdefaults\":{\"arrowcolor\":\"#2a3f5f\",\"arrowhead\":0,\"arrowwidth\":1},\"autotypenumbers\":\"strict\",\"coloraxis\":{\"colorbar\":{\"outlinewidth\":0,\"ticks\":\"\"}},\"colorscale\":{\"diverging\":[[0,\"#8e0152\"],[0.1,\"#c51b7d\"],[0.2,\"#de77ae\"],[0.3,\"#f1b6da\"],[0.4,\"#fde0ef\"],[0.5,\"#f7f7f7\"],[0.6,\"#e6f5d0\"],[0.7,\"#b8e186\"],[0.8,\"#7fbc41\"],[0.9,\"#4d9221\"],[1,\"#276419\"]],\"sequential\":[[0.0,\"#0d0887\"],[0.1111111111111111,\"#46039f\"],[0.2222222222222222,\"#7201a8\"],[0.3333333333333333,\"#9c179e\"],[0.4444444444444444,\"#bd3786\"],[0.5555555555555556,\"#d8576b\"],[0.6666666666666666,\"#ed7953\"],[0.7777777777777778,\"#fb9f3a\"],[0.8888888888888888,\"#fdca26\"],[1.0,\"#f0f921\"]],\"sequentialminus\":[[0.0,\"#0d0887\"],[0.1111111111111111,\"#46039f\"],[0.2222222222222222,\"#7201a8\"],[0.3333333333333333,\"#9c179e\"],[0.4444444444444444,\"#bd3786\"],[0.5555555555555556,\"#d8576b\"],[0.6666666666666666,\"#ed7953\"],[0.7777777777777778,\"#fb9f3a\"],[0.8888888888888888,\"#fdca26\"],[1.0,\"#f0f921\"]]},\"colorway\":[\"#636efa\",\"#EF553B\",\"#00cc96\",\"#ab63fa\",\"#FFA15A\",\"#19d3f3\",\"#FF6692\",\"#B6E880\",\"#FF97FF\",\"#FECB52\"],\"font\":{\"color\":\"#2a3f5f\"},\"geo\":{\"bgcolor\":\"white\",\"lakecolor\":\"white\",\"landcolor\":\"#E5ECF6\",\"showlakes\":true,\"showland\":true,\"subunitcolor\":\"white\"},\"hoverlabel\":{\"align\":\"left\"},\"hovermode\":\"closest\",\"mapbox\":{\"style\":\"light\"},\"paper_bgcolor\":\"white\",\"plot_bgcolor\":\"#E5ECF6\",\"polar\":{\"angularaxis\":{\"gridcolor\":\"white\",\"linecolor\":\"white\",\"ticks\":\"\"},\"bgcolor\":\"#E5ECF6\",\"radialaxis\":{\"gridcolor\":\"white\",\"linecolor\":\"white\",\"ticks\":\"\"}},\"scene\":{\"xaxis\":{\"backgroundcolor\":\"#E5ECF6\",\"gridcolor\":\"white\",\"gridwidth\":2,\"linecolor\":\"white\",\"showbackground\":true,\"ticks\":\"\",\"zerolinecolor\":\"white\"},\"yaxis\":{\"backgroundcolor\":\"#E5ECF6\",\"gridcolor\":\"white\",\"gridwidth\":2,\"linecolor\":\"white\",\"showbackground\":true,\"ticks\":\"\",\"zerolinecolor\":\"white\"},\"zaxis\":{\"backgroundcolor\":\"#E5ECF6\",\"gridcolor\":\"white\",\"gridwidth\":2,\"linecolor\":\"white\",\"showbackground\":true,\"ticks\":\"\",\"zerolinecolor\":\"white\"}},\"shapedefaults\":{\"line\":{\"color\":\"#2a3f5f\"}},\"ternary\":{\"aaxis\":{\"gridcolor\":\"white\",\"linecolor\":\"white\",\"ticks\":\"\"},\"baxis\":{\"gridcolor\":\"white\",\"linecolor\":\"white\",\"ticks\":\"\"},\"bgcolor\":\"#E5ECF6\",\"caxis\":{\"gridcolor\":\"white\",\"linecolor\":\"white\",\"ticks\":\"\"}},\"title\":{\"x\":0.05},\"xaxis\":{\"automargin\":true,\"gridcolor\":\"white\",\"linecolor\":\"white\",\"ticks\":\"\",\"title\":{\"standoff\":15},\"zerolinecolor\":\"white\",\"zerolinewidth\":2},\"yaxis\":{\"automargin\":true,\"gridcolor\":\"white\",\"linecolor\":\"white\",\"ticks\":\"\",\"title\":{\"standoff\":15},\"zerolinecolor\":\"white\",\"zerolinewidth\":2}}},\"xaxis\":{\"anchor\":\"y\",\"domain\":[0.0,1.0],\"title\":{\"text\":\"New_Total\"}},\"yaxis\":{\"anchor\":\"x\",\"domain\":[0.0,1.0],\"title\":{\"text\":\"Username\"}},\"legend\":{\"tracegroupgap\":0},\"title\":{\"text\":\"Box-plot p/ cotacoes - periodo: fev. 2022 / estratificadas por grupo de usuarios\"},\"boxmode\":\"group\"},                        {\"responsive\": true}                    ).then(function(){\n",
       "                            \n",
       "var gd = document.getElementById('5fa74baa-f284-498d-99cd-6e112592359c');\n",
       "var x = new MutationObserver(function (mutations, observer) {{\n",
       "        var display = window.getComputedStyle(gd).display;\n",
       "        if (!display || display === 'none') {{\n",
       "            console.log([gd, 'removed!']);\n",
       "            Plotly.purge(gd);\n",
       "            observer.disconnect();\n",
       "        }}\n",
       "}});\n",
       "\n",
       "// Listen for the removal of the full notebook cells\n",
       "var notebookContainer = gd.closest('#notebook-container');\n",
       "if (notebookContainer) {{\n",
       "    x.observe(notebookContainer, {childList: true});\n",
       "}}\n",
       "\n",
       "// Listen for the clearing of the current output cell\n",
       "var outputEl = gd.closest('.output');\n",
       "if (outputEl) {{\n",
       "    x.observe(outputEl, {childList: true});\n",
       "}}\n",
       "\n",
       "                        })                };                });            </script>        </div>"
      ]
     },
     "metadata": {},
     "output_type": "display_data"
    }
   ],
   "source": [
    "# Criar grafico sequencial mostrando qtde quotes criados no mes de fev. 2022 p/ variavel New_Total \n",
    "#estratificada) / CAN$\n",
    "\n",
    "import plotly.express as px\n",
    "import matplotlib.pyplot as pl \n",
    "\n",
    "px.box(nova_tabela, x=\"New_Total\", y=\"Username\", \n",
    "       title=\"Box-plot p/ cotacoes - periodo: fev. 2022 / estratificadas por grupo de usuarios\")"
   ]
  },
  {
   "cell_type": "markdown",
   "id": "c91150ea",
   "metadata": {},
   "source": [
    "#####  ENVIO DE EMAIL AUTOMATICO (GMAIL) - INDICADOR (QTY TOTAL DE QUOTES - PERIODO FEV 2022)"
   ]
  },
  {
   "cell_type": "code",
   "execution_count": null,
   "id": "735975a5",
   "metadata": {},
   "outputs": [],
   "source": [
    "# 7 - Enviar email para o gerente com a qty global e estratificada por usuarios no mes de Fev 2022\n",
    "\n",
    "from Senha1 import EMAIL_KEYLLA, PASSWORD_KEYLLA\n",
    "\n",
    "import pandas as pd\n",
    "import smtplib\n",
    "import email.message\n",
    "                                                               # precisa dessas 2 bibliotecas para fazer o codigo funcionar\n",
    "def enviar_email():                                            # fc que envia email\n",
    "\n",
    "    qty_total_quote = 130\n",
    "    qty_total_quote_Coord = 73\n",
    "    qty_total_quote_GV = 57                                                           \n",
    "    \n",
    "    \n",
    "    corpo_email =  f\"\"\"                                                             \n",
    "    <p>Dear Customer,</p>\n",
    "    <p>Please see the quote report related to the <b>QTY OF QUOTES CREATED in February, 2022:</b></p>\n",
    "    <p>Total quotes:{qty_total_quote}</p>\n",
    "    <p>Total quotes created by the Coordinators:{qty_total_quote_Coord}</p>\n",
    "    <p>Total quotes created by Sales Team - GV:{qty_total_quote_GV}</p>\n",
    "    <p>If you have any questions, please let us know.</p>\n",
    "    <p>Best regards,</p>\n",
    "    <p>Analytics team</p>\n",
    "    \"\"\"\n",
    "    \n",
    "    \n",
    "    msg = email.message.Message()                                # cria o email\n",
    "    msg['Subject'] = \"Monthly Quote Report\"                      # define esses parametros\n",
    "    msg['From'] = 'keyllacristianerodrigues@gmail.com'\n",
    "    msg['To'] = 'keyllacristianerodrigues+1@gmail.com'\n",
    "    password = PASSWORD_KEYLLA                                   # digitar a senha do email no \"From\" aqui ou importar o arquivo extra c a senha.py\n",
    "    msg.add_header('Content-Type', 'text/html')\n",
    "    msg.set_payload(corpo_email)\n",
    "    \n",
    "   \n",
    "   \n",
    "    s = smtplib.SMTP('smtp.gmail.com: 587')\n",
    "    s.starttls()                                         #faz conexao de forma segura c/o email. Essa parte toda eh para enviar a mns\n",
    "    #Login credentials for sending the mail\n",
    "    s.login(msg['From'], password)\n",
    "    s.sendmail(msg['From'], [msg['To']], msg.as_string().encode('utf-8'))\n",
    "    print('Email enviado') \n",
    "                                                \n",
    " "
   ]
  },
  {
   "cell_type": "code",
   "execution_count": null,
   "id": "7f161b42",
   "metadata": {},
   "outputs": [],
   "source": [
    "enviar_email()"
   ]
  }
 ],
 "metadata": {
  "kernelspec": {
   "display_name": "Python 3",
   "language": "python",
   "name": "python3"
  },
  "language_info": {
   "codemirror_mode": {
    "name": "ipython",
    "version": 3
   },
   "file_extension": ".py",
   "mimetype": "text/x-python",
   "name": "python",
   "nbconvert_exporter": "python",
   "pygments_lexer": "ipython3",
   "version": "3.8.8"
  }
 },
 "nbformat": 4,
 "nbformat_minor": 5
}
